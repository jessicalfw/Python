{
  "cells": [
    {
      "cell_type": "markdown",
      "metadata": {
        "id": "yvQm5n5794Oi"
      },
      "source": [
        "### Organisation industrielle Hiver 2024 Projet1\n",
        "\n",
        "\n",
        "\n",
        "\n",
        "\n",
        "\n",
        "\n"
      ]
    },
    {
      "cell_type": "code",
      "execution_count": null,
      "metadata": {
        "colab": {
          "base_uri": "https://localhost:8080/"
        },
        "id": "ITNgH37goEvD",
        "outputId": "172df36b-cace-4683-dd54-5c37f584d223"
      },
      "outputs": [
        {
          "output_type": "stream",
          "name": "stdout",
          "text": [
            "Requirement already satisfied: linearmodels in /usr/local/lib/python3.10/dist-packages (5.4)\n",
            "Requirement already satisfied: numpy>=1.22.0 in /usr/local/lib/python3.10/dist-packages (from linearmodels) (1.25.2)\n",
            "Requirement already satisfied: pandas>=1.3.0 in /usr/local/lib/python3.10/dist-packages (from linearmodels) (1.5.3)\n",
            "Requirement already satisfied: scipy>=1.5.0 in /usr/local/lib/python3.10/dist-packages (from linearmodels) (1.11.4)\n",
            "Requirement already satisfied: statsmodels>=0.12.0 in /usr/local/lib/python3.10/dist-packages (from linearmodels) (0.14.1)\n",
            "Requirement already satisfied: mypy-extensions>=0.4 in /usr/local/lib/python3.10/dist-packages (from linearmodels) (1.0.0)\n",
            "Requirement already satisfied: Cython>=0.29.37 in /usr/local/lib/python3.10/dist-packages (from linearmodels) (3.0.8)\n",
            "Requirement already satisfied: pyhdfe>=0.1 in /usr/local/lib/python3.10/dist-packages (from linearmodels) (0.2.0)\n",
            "Requirement already satisfied: formulaic>=0.6.5 in /usr/local/lib/python3.10/dist-packages (from linearmodels) (1.0.1)\n",
            "Requirement already satisfied: setuptools-scm[toml]<9.0.0,>=8.0.0 in /usr/local/lib/python3.10/dist-packages (from linearmodels) (8.0.4)\n",
            "Requirement already satisfied: interface-meta>=1.2.0 in /usr/local/lib/python3.10/dist-packages (from formulaic>=0.6.5->linearmodels) (1.3.0)\n",
            "Requirement already satisfied: typing-extensions>=4.2.0 in /usr/local/lib/python3.10/dist-packages (from formulaic>=0.6.5->linearmodels) (4.9.0)\n",
            "Requirement already satisfied: wrapt>=1.0 in /usr/local/lib/python3.10/dist-packages (from formulaic>=0.6.5->linearmodels) (1.14.1)\n",
            "Requirement already satisfied: python-dateutil>=2.8.1 in /usr/local/lib/python3.10/dist-packages (from pandas>=1.3.0->linearmodels) (2.8.2)\n",
            "Requirement already satisfied: pytz>=2020.1 in /usr/local/lib/python3.10/dist-packages (from pandas>=1.3.0->linearmodels) (2023.4)\n",
            "Requirement already satisfied: packaging>=20 in /usr/local/lib/python3.10/dist-packages (from setuptools-scm[toml]<9.0.0,>=8.0.0->linearmodels) (23.2)\n",
            "Requirement already satisfied: setuptools in /usr/local/lib/python3.10/dist-packages (from setuptools-scm[toml]<9.0.0,>=8.0.0->linearmodels) (67.7.2)\n",
            "Requirement already satisfied: tomli>=1 in /usr/local/lib/python3.10/dist-packages (from setuptools-scm[toml]<9.0.0,>=8.0.0->linearmodels) (2.0.1)\n",
            "Requirement already satisfied: patsy>=0.5.4 in /usr/local/lib/python3.10/dist-packages (from statsmodels>=0.12.0->linearmodels) (0.5.6)\n",
            "Requirement already satisfied: six in /usr/local/lib/python3.10/dist-packages (from patsy>=0.5.4->statsmodels>=0.12.0->linearmodels) (1.16.0)\n"
          ]
        }
      ],
      "source": [
        "import matplotlib.pyplot as plt\n",
        "import numpy as np\n",
        "import statsmodels.api as sm\n",
        "import gdown\n",
        "import gspread\n",
        "import pandas as pd\n",
        "!pip install linearmodels\n",
        "from linearmodels import OLS"
      ]
    },
    {
      "cell_type": "markdown",
      "metadata": {
        "id": "j5mzV1n_9KQ6"
      },
      "source": [
        "### 1. Production de pétrole pour les États-Unis, la Russie et l'Arabie Saoudite"
      ]
    },
    {
      "cell_type": "code",
      "execution_count": null,
      "metadata": {
        "colab": {
          "base_uri": "https://localhost:8080/",
          "height": 177
        },
        "id": "cm4eFNqHopXT",
        "outputId": "5b8a8d2b-24c9-49e7-8fa8-12b8fde78c5f"
      },
      "outputs": [
        {
          "output_type": "display_data",
          "data": {
            "text/plain": [
              "<IPython.core.display.HTML object>"
            ],
            "text/html": [
              "\n",
              "     <input type=\"file\" id=\"files-6aa634b3-bc3a-4f48-8571-5f63b5429df9\" name=\"files[]\" multiple disabled\n",
              "        style=\"border:none\" />\n",
              "     <output id=\"result-6aa634b3-bc3a-4f48-8571-5f63b5429df9\">\n",
              "      Upload widget is only available when the cell has been executed in the\n",
              "      current browser session. Please rerun this cell to enable.\n",
              "      </output>\n",
              "      <script>// Copyright 2017 Google LLC\n",
              "//\n",
              "// Licensed under the Apache License, Version 2.0 (the \"License\");\n",
              "// you may not use this file except in compliance with the License.\n",
              "// You may obtain a copy of the License at\n",
              "//\n",
              "//      http://www.apache.org/licenses/LICENSE-2.0\n",
              "//\n",
              "// Unless required by applicable law or agreed to in writing, software\n",
              "// distributed under the License is distributed on an \"AS IS\" BASIS,\n",
              "// WITHOUT WARRANTIES OR CONDITIONS OF ANY KIND, either express or implied.\n",
              "// See the License for the specific language governing permissions and\n",
              "// limitations under the License.\n",
              "\n",
              "/**\n",
              " * @fileoverview Helpers for google.colab Python module.\n",
              " */\n",
              "(function(scope) {\n",
              "function span(text, styleAttributes = {}) {\n",
              "  const element = document.createElement('span');\n",
              "  element.textContent = text;\n",
              "  for (const key of Object.keys(styleAttributes)) {\n",
              "    element.style[key] = styleAttributes[key];\n",
              "  }\n",
              "  return element;\n",
              "}\n",
              "\n",
              "// Max number of bytes which will be uploaded at a time.\n",
              "const MAX_PAYLOAD_SIZE = 100 * 1024;\n",
              "\n",
              "function _uploadFiles(inputId, outputId) {\n",
              "  const steps = uploadFilesStep(inputId, outputId);\n",
              "  const outputElement = document.getElementById(outputId);\n",
              "  // Cache steps on the outputElement to make it available for the next call\n",
              "  // to uploadFilesContinue from Python.\n",
              "  outputElement.steps = steps;\n",
              "\n",
              "  return _uploadFilesContinue(outputId);\n",
              "}\n",
              "\n",
              "// This is roughly an async generator (not supported in the browser yet),\n",
              "// where there are multiple asynchronous steps and the Python side is going\n",
              "// to poll for completion of each step.\n",
              "// This uses a Promise to block the python side on completion of each step,\n",
              "// then passes the result of the previous step as the input to the next step.\n",
              "function _uploadFilesContinue(outputId) {\n",
              "  const outputElement = document.getElementById(outputId);\n",
              "  const steps = outputElement.steps;\n",
              "\n",
              "  const next = steps.next(outputElement.lastPromiseValue);\n",
              "  return Promise.resolve(next.value.promise).then((value) => {\n",
              "    // Cache the last promise value to make it available to the next\n",
              "    // step of the generator.\n",
              "    outputElement.lastPromiseValue = value;\n",
              "    return next.value.response;\n",
              "  });\n",
              "}\n",
              "\n",
              "/**\n",
              " * Generator function which is called between each async step of the upload\n",
              " * process.\n",
              " * @param {string} inputId Element ID of the input file picker element.\n",
              " * @param {string} outputId Element ID of the output display.\n",
              " * @return {!Iterable<!Object>} Iterable of next steps.\n",
              " */\n",
              "function* uploadFilesStep(inputId, outputId) {\n",
              "  const inputElement = document.getElementById(inputId);\n",
              "  inputElement.disabled = false;\n",
              "\n",
              "  const outputElement = document.getElementById(outputId);\n",
              "  outputElement.innerHTML = '';\n",
              "\n",
              "  const pickedPromise = new Promise((resolve) => {\n",
              "    inputElement.addEventListener('change', (e) => {\n",
              "      resolve(e.target.files);\n",
              "    });\n",
              "  });\n",
              "\n",
              "  const cancel = document.createElement('button');\n",
              "  inputElement.parentElement.appendChild(cancel);\n",
              "  cancel.textContent = 'Cancel upload';\n",
              "  const cancelPromise = new Promise((resolve) => {\n",
              "    cancel.onclick = () => {\n",
              "      resolve(null);\n",
              "    };\n",
              "  });\n",
              "\n",
              "  // Wait for the user to pick the files.\n",
              "  const files = yield {\n",
              "    promise: Promise.race([pickedPromise, cancelPromise]),\n",
              "    response: {\n",
              "      action: 'starting',\n",
              "    }\n",
              "  };\n",
              "\n",
              "  cancel.remove();\n",
              "\n",
              "  // Disable the input element since further picks are not allowed.\n",
              "  inputElement.disabled = true;\n",
              "\n",
              "  if (!files) {\n",
              "    return {\n",
              "      response: {\n",
              "        action: 'complete',\n",
              "      }\n",
              "    };\n",
              "  }\n",
              "\n",
              "  for (const file of files) {\n",
              "    const li = document.createElement('li');\n",
              "    li.append(span(file.name, {fontWeight: 'bold'}));\n",
              "    li.append(span(\n",
              "        `(${file.type || 'n/a'}) - ${file.size} bytes, ` +\n",
              "        `last modified: ${\n",
              "            file.lastModifiedDate ? file.lastModifiedDate.toLocaleDateString() :\n",
              "                                    'n/a'} - `));\n",
              "    const percent = span('0% done');\n",
              "    li.appendChild(percent);\n",
              "\n",
              "    outputElement.appendChild(li);\n",
              "\n",
              "    const fileDataPromise = new Promise((resolve) => {\n",
              "      const reader = new FileReader();\n",
              "      reader.onload = (e) => {\n",
              "        resolve(e.target.result);\n",
              "      };\n",
              "      reader.readAsArrayBuffer(file);\n",
              "    });\n",
              "    // Wait for the data to be ready.\n",
              "    let fileData = yield {\n",
              "      promise: fileDataPromise,\n",
              "      response: {\n",
              "        action: 'continue',\n",
              "      }\n",
              "    };\n",
              "\n",
              "    // Use a chunked sending to avoid message size limits. See b/62115660.\n",
              "    let position = 0;\n",
              "    do {\n",
              "      const length = Math.min(fileData.byteLength - position, MAX_PAYLOAD_SIZE);\n",
              "      const chunk = new Uint8Array(fileData, position, length);\n",
              "      position += length;\n",
              "\n",
              "      const base64 = btoa(String.fromCharCode.apply(null, chunk));\n",
              "      yield {\n",
              "        response: {\n",
              "          action: 'append',\n",
              "          file: file.name,\n",
              "          data: base64,\n",
              "        },\n",
              "      };\n",
              "\n",
              "      let percentDone = fileData.byteLength === 0 ?\n",
              "          100 :\n",
              "          Math.round((position / fileData.byteLength) * 100);\n",
              "      percent.textContent = `${percentDone}% done`;\n",
              "\n",
              "    } while (position < fileData.byteLength);\n",
              "  }\n",
              "\n",
              "  // All done.\n",
              "  yield {\n",
              "    response: {\n",
              "      action: 'complete',\n",
              "    }\n",
              "  };\n",
              "}\n",
              "\n",
              "scope.google = scope.google || {};\n",
              "scope.google.colab = scope.google.colab || {};\n",
              "scope.google.colab._files = {\n",
              "  _uploadFiles,\n",
              "  _uploadFilesContinue,\n",
              "};\n",
              "})(self);\n",
              "</script> "
            ]
          },
          "metadata": {}
        },
        {
          "output_type": "stream",
          "name": "stdout",
          "text": [
            "Saving byd.csv to byd (1).csv\n",
            "Saving coffee_data.csv to coffee_data (1).csv\n",
            "Saving US Tesla Car Prices - Sheet1.csv to US Tesla Car Prices - Sheet1 (1).csv\n",
            "Saving oil-production-by-country.csv to oil-production-by-country (1).csv\n"
          ]
        }
      ],
      "source": [
        "from google.colab import files\n",
        "# Open the following files :\n",
        "# - \"byd.csv\"\n",
        "# - \"coffee_data.csv\"\n",
        "# - \"US Tesla Car Prices - Sheet1.csv\"\n",
        "# - \"oil-production-by-country.csv\"\n",
        "# Sélectionnez le fichier à télécharger\n",
        "uploaded = files.upload()"
      ]
    },
    {
      "cell_type": "code",
      "execution_count": null,
      "metadata": {
        "colab": {
          "base_uri": "https://localhost:8080/",
          "height": 206
        },
        "id": "FVQAuUCd-TS8",
        "outputId": "7b59d9ab-3496-4f29-f0b9-b533153aec48"
      },
      "outputs": [
        {
          "output_type": "execute_result",
          "data": {
            "text/plain": [
              "       Entity Code  Year  Oil production (TWh)\n",
              "13540  Russia  RUS  1985             6307.0190\n",
              "13541  Russia  RUS  1986             6526.5470\n",
              "13542  Russia  RUS  1987             6623.0645\n",
              "13543  Russia  RUS  1988             6614.9000\n",
              "13544  Russia  RUS  1989             6422.3887"
            ],
            "text/html": [
              "\n",
              "  <div id=\"df-63d719f3-d648-4682-97fd-15cc3795f64a\" class=\"colab-df-container\">\n",
              "    <div>\n",
              "<style scoped>\n",
              "    .dataframe tbody tr th:only-of-type {\n",
              "        vertical-align: middle;\n",
              "    }\n",
              "\n",
              "    .dataframe tbody tr th {\n",
              "        vertical-align: top;\n",
              "    }\n",
              "\n",
              "    .dataframe thead th {\n",
              "        text-align: right;\n",
              "    }\n",
              "</style>\n",
              "<table border=\"1\" class=\"dataframe\">\n",
              "  <thead>\n",
              "    <tr style=\"text-align: right;\">\n",
              "      <th></th>\n",
              "      <th>Entity</th>\n",
              "      <th>Code</th>\n",
              "      <th>Year</th>\n",
              "      <th>Oil production (TWh)</th>\n",
              "    </tr>\n",
              "  </thead>\n",
              "  <tbody>\n",
              "    <tr>\n",
              "      <th>13540</th>\n",
              "      <td>Russia</td>\n",
              "      <td>RUS</td>\n",
              "      <td>1985</td>\n",
              "      <td>6307.0190</td>\n",
              "    </tr>\n",
              "    <tr>\n",
              "      <th>13541</th>\n",
              "      <td>Russia</td>\n",
              "      <td>RUS</td>\n",
              "      <td>1986</td>\n",
              "      <td>6526.5470</td>\n",
              "    </tr>\n",
              "    <tr>\n",
              "      <th>13542</th>\n",
              "      <td>Russia</td>\n",
              "      <td>RUS</td>\n",
              "      <td>1987</td>\n",
              "      <td>6623.0645</td>\n",
              "    </tr>\n",
              "    <tr>\n",
              "      <th>13543</th>\n",
              "      <td>Russia</td>\n",
              "      <td>RUS</td>\n",
              "      <td>1988</td>\n",
              "      <td>6614.9000</td>\n",
              "    </tr>\n",
              "    <tr>\n",
              "      <th>13544</th>\n",
              "      <td>Russia</td>\n",
              "      <td>RUS</td>\n",
              "      <td>1989</td>\n",
              "      <td>6422.3887</td>\n",
              "    </tr>\n",
              "  </tbody>\n",
              "</table>\n",
              "</div>\n",
              "    <div class=\"colab-df-buttons\">\n",
              "\n",
              "  <div class=\"colab-df-container\">\n",
              "    <button class=\"colab-df-convert\" onclick=\"convertToInteractive('df-63d719f3-d648-4682-97fd-15cc3795f64a')\"\n",
              "            title=\"Convert this dataframe to an interactive table.\"\n",
              "            style=\"display:none;\">\n",
              "\n",
              "  <svg xmlns=\"http://www.w3.org/2000/svg\" height=\"24px\" viewBox=\"0 -960 960 960\">\n",
              "    <path d=\"M120-120v-720h720v720H120Zm60-500h600v-160H180v160Zm220 220h160v-160H400v160Zm0 220h160v-160H400v160ZM180-400h160v-160H180v160Zm440 0h160v-160H620v160ZM180-180h160v-160H180v160Zm440 0h160v-160H620v160Z\"/>\n",
              "  </svg>\n",
              "    </button>\n",
              "\n",
              "  <style>\n",
              "    .colab-df-container {\n",
              "      display:flex;\n",
              "      gap: 12px;\n",
              "    }\n",
              "\n",
              "    .colab-df-convert {\n",
              "      background-color: #E8F0FE;\n",
              "      border: none;\n",
              "      border-radius: 50%;\n",
              "      cursor: pointer;\n",
              "      display: none;\n",
              "      fill: #1967D2;\n",
              "      height: 32px;\n",
              "      padding: 0 0 0 0;\n",
              "      width: 32px;\n",
              "    }\n",
              "\n",
              "    .colab-df-convert:hover {\n",
              "      background-color: #E2EBFA;\n",
              "      box-shadow: 0px 1px 2px rgba(60, 64, 67, 0.3), 0px 1px 3px 1px rgba(60, 64, 67, 0.15);\n",
              "      fill: #174EA6;\n",
              "    }\n",
              "\n",
              "    .colab-df-buttons div {\n",
              "      margin-bottom: 4px;\n",
              "    }\n",
              "\n",
              "    [theme=dark] .colab-df-convert {\n",
              "      background-color: #3B4455;\n",
              "      fill: #D2E3FC;\n",
              "    }\n",
              "\n",
              "    [theme=dark] .colab-df-convert:hover {\n",
              "      background-color: #434B5C;\n",
              "      box-shadow: 0px 1px 3px 1px rgba(0, 0, 0, 0.15);\n",
              "      filter: drop-shadow(0px 1px 2px rgba(0, 0, 0, 0.3));\n",
              "      fill: #FFFFFF;\n",
              "    }\n",
              "  </style>\n",
              "\n",
              "    <script>\n",
              "      const buttonEl =\n",
              "        document.querySelector('#df-63d719f3-d648-4682-97fd-15cc3795f64a button.colab-df-convert');\n",
              "      buttonEl.style.display =\n",
              "        google.colab.kernel.accessAllowed ? 'block' : 'none';\n",
              "\n",
              "      async function convertToInteractive(key) {\n",
              "        const element = document.querySelector('#df-63d719f3-d648-4682-97fd-15cc3795f64a');\n",
              "        const dataTable =\n",
              "          await google.colab.kernel.invokeFunction('convertToInteractive',\n",
              "                                                    [key], {});\n",
              "        if (!dataTable) return;\n",
              "\n",
              "        const docLinkHtml = 'Like what you see? Visit the ' +\n",
              "          '<a target=\"_blank\" href=https://colab.research.google.com/notebooks/data_table.ipynb>data table notebook</a>'\n",
              "          + ' to learn more about interactive tables.';\n",
              "        element.innerHTML = '';\n",
              "        dataTable['output_type'] = 'display_data';\n",
              "        await google.colab.output.renderOutput(dataTable, element);\n",
              "        const docLink = document.createElement('div');\n",
              "        docLink.innerHTML = docLinkHtml;\n",
              "        element.appendChild(docLink);\n",
              "      }\n",
              "    </script>\n",
              "  </div>\n",
              "\n",
              "\n",
              "<div id=\"df-4ed2cbd1-6917-4b46-b4d4-bb33cc1d9ce6\">\n",
              "  <button class=\"colab-df-quickchart\" onclick=\"quickchart('df-4ed2cbd1-6917-4b46-b4d4-bb33cc1d9ce6')\"\n",
              "            title=\"Suggest charts\"\n",
              "            style=\"display:none;\">\n",
              "\n",
              "<svg xmlns=\"http://www.w3.org/2000/svg\" height=\"24px\"viewBox=\"0 0 24 24\"\n",
              "     width=\"24px\">\n",
              "    <g>\n",
              "        <path d=\"M19 3H5c-1.1 0-2 .9-2 2v14c0 1.1.9 2 2 2h14c1.1 0 2-.9 2-2V5c0-1.1-.9-2-2-2zM9 17H7v-7h2v7zm4 0h-2V7h2v10zm4 0h-2v-4h2v4z\"/>\n",
              "    </g>\n",
              "</svg>\n",
              "  </button>\n",
              "\n",
              "<style>\n",
              "  .colab-df-quickchart {\n",
              "      --bg-color: #E8F0FE;\n",
              "      --fill-color: #1967D2;\n",
              "      --hover-bg-color: #E2EBFA;\n",
              "      --hover-fill-color: #174EA6;\n",
              "      --disabled-fill-color: #AAA;\n",
              "      --disabled-bg-color: #DDD;\n",
              "  }\n",
              "\n",
              "  [theme=dark] .colab-df-quickchart {\n",
              "      --bg-color: #3B4455;\n",
              "      --fill-color: #D2E3FC;\n",
              "      --hover-bg-color: #434B5C;\n",
              "      --hover-fill-color: #FFFFFF;\n",
              "      --disabled-bg-color: #3B4455;\n",
              "      --disabled-fill-color: #666;\n",
              "  }\n",
              "\n",
              "  .colab-df-quickchart {\n",
              "    background-color: var(--bg-color);\n",
              "    border: none;\n",
              "    border-radius: 50%;\n",
              "    cursor: pointer;\n",
              "    display: none;\n",
              "    fill: var(--fill-color);\n",
              "    height: 32px;\n",
              "    padding: 0;\n",
              "    width: 32px;\n",
              "  }\n",
              "\n",
              "  .colab-df-quickchart:hover {\n",
              "    background-color: var(--hover-bg-color);\n",
              "    box-shadow: 0 1px 2px rgba(60, 64, 67, 0.3), 0 1px 3px 1px rgba(60, 64, 67, 0.15);\n",
              "    fill: var(--button-hover-fill-color);\n",
              "  }\n",
              "\n",
              "  .colab-df-quickchart-complete:disabled,\n",
              "  .colab-df-quickchart-complete:disabled:hover {\n",
              "    background-color: var(--disabled-bg-color);\n",
              "    fill: var(--disabled-fill-color);\n",
              "    box-shadow: none;\n",
              "  }\n",
              "\n",
              "  .colab-df-spinner {\n",
              "    border: 2px solid var(--fill-color);\n",
              "    border-color: transparent;\n",
              "    border-bottom-color: var(--fill-color);\n",
              "    animation:\n",
              "      spin 1s steps(1) infinite;\n",
              "  }\n",
              "\n",
              "  @keyframes spin {\n",
              "    0% {\n",
              "      border-color: transparent;\n",
              "      border-bottom-color: var(--fill-color);\n",
              "      border-left-color: var(--fill-color);\n",
              "    }\n",
              "    20% {\n",
              "      border-color: transparent;\n",
              "      border-left-color: var(--fill-color);\n",
              "      border-top-color: var(--fill-color);\n",
              "    }\n",
              "    30% {\n",
              "      border-color: transparent;\n",
              "      border-left-color: var(--fill-color);\n",
              "      border-top-color: var(--fill-color);\n",
              "      border-right-color: var(--fill-color);\n",
              "    }\n",
              "    40% {\n",
              "      border-color: transparent;\n",
              "      border-right-color: var(--fill-color);\n",
              "      border-top-color: var(--fill-color);\n",
              "    }\n",
              "    60% {\n",
              "      border-color: transparent;\n",
              "      border-right-color: var(--fill-color);\n",
              "    }\n",
              "    80% {\n",
              "      border-color: transparent;\n",
              "      border-right-color: var(--fill-color);\n",
              "      border-bottom-color: var(--fill-color);\n",
              "    }\n",
              "    90% {\n",
              "      border-color: transparent;\n",
              "      border-bottom-color: var(--fill-color);\n",
              "    }\n",
              "  }\n",
              "</style>\n",
              "\n",
              "  <script>\n",
              "    async function quickchart(key) {\n",
              "      const quickchartButtonEl =\n",
              "        document.querySelector('#' + key + ' button');\n",
              "      quickchartButtonEl.disabled = true;  // To prevent multiple clicks.\n",
              "      quickchartButtonEl.classList.add('colab-df-spinner');\n",
              "      try {\n",
              "        const charts = await google.colab.kernel.invokeFunction(\n",
              "            'suggestCharts', [key], {});\n",
              "      } catch (error) {\n",
              "        console.error('Error during call to suggestCharts:', error);\n",
              "      }\n",
              "      quickchartButtonEl.classList.remove('colab-df-spinner');\n",
              "      quickchartButtonEl.classList.add('colab-df-quickchart-complete');\n",
              "    }\n",
              "    (() => {\n",
              "      let quickchartButtonEl =\n",
              "        document.querySelector('#df-4ed2cbd1-6917-4b46-b4d4-bb33cc1d9ce6 button');\n",
              "      quickchartButtonEl.style.display =\n",
              "        google.colab.kernel.accessAllowed ? 'block' : 'none';\n",
              "    })();\n",
              "  </script>\n",
              "</div>\n",
              "\n",
              "    </div>\n",
              "  </div>\n"
            ],
            "application/vnd.google.colaboratory.intrinsic+json": {
              "type": "dataframe",
              "variable_name": "filtered_df",
              "summary": "{\n  \"name\": \"filtered_df\",\n  \"rows\": 140,\n  \"fields\": [\n    {\n      \"column\": \"Entity\",\n      \"properties\": {\n        \"dtype\": \"category\",\n        \"samples\": [\n          \"Russia\",\n          \"Saudi Arabia\",\n          \"United States\"\n        ],\n        \"num_unique_values\": 3,\n        \"semantic_type\": \"\",\n        \"description\": \"\"\n      }\n    },\n    {\n      \"column\": \"Code\",\n      \"properties\": {\n        \"dtype\": \"category\",\n        \"samples\": [\n          \"RUS\",\n          \"SAU\",\n          \"USA\"\n        ],\n        \"num_unique_values\": 3,\n        \"semantic_type\": \"\",\n        \"description\": \"\"\n      }\n    },\n    {\n      \"column\": \"Year\",\n      \"properties\": {\n        \"dtype\": \"number\",\n        \"std\": 14,\n        \"min\": 1972,\n        \"max\": 2022,\n        \"samples\": [\n          1977,\n          1974,\n          1980\n        ],\n        \"num_unique_values\": 51,\n        \"semantic_type\": \"\",\n        \"description\": \"\"\n      }\n    },\n    {\n      \"column\": \"Oil production (TWh)\",\n      \"properties\": {\n        \"dtype\": \"number\",\n        \"std\": 1237.1486905905356,\n        \"min\": 2001.202,\n        \"max\": 8832.521,\n        \"samples\": [\n          4918.2886,\n          4974.1143,\n          6495.112\n        ],\n        \"num_unique_values\": 140,\n        \"semantic_type\": \"\",\n        \"description\": \"\"\n      }\n    }\n  ]\n}"
            }
          },
          "metadata": {},
          "execution_count": 78
        }
      ],
      "source": [
        "df = pd.read_csv('oil-production-by-country.csv')\n",
        "# Keep data of the past 50 years\n",
        "selected_countires = ['United States', 'Russia', 'Saudi Arabia']\n",
        "threshold_year = 2022 - 50\n",
        "filtered_df = df[(df['Year'] >= threshold_year) & (df['Entity'].isin(selected_countires))]\n",
        "filtered_df.head()"
      ]
    },
    {
      "cell_type": "code",
      "execution_count": null,
      "metadata": {
        "colab": {
          "base_uri": "https://localhost:8080/"
        },
        "id": "Exn0ZR89NAGF",
        "outputId": "03ad12c2-110c-4162-c6a5-ae2b430ba5e5"
      },
      "outputs": [
        {
          "output_type": "stream",
          "name": "stdout",
          "text": [
            "Entity     Russia  Saudi Arabia  United States\n",
            "Year                                          \n",
            "1972          NaN     3538.2239      6139.3360\n",
            "1973          NaN     4466.0900      5985.4062\n",
            "1974          NaN     4996.7960      5715.0557\n",
            "1975          NaN     4179.0890      5463.4300\n",
            "1976          NaN     5085.3410      5326.3057\n",
            "1977          NaN     5447.4460      5382.4077\n",
            "1978          NaN     4936.2310      5631.3120\n",
            "1979          NaN     5675.5664      5547.4090\n",
            "1980          NaN     5929.0127      5584.6494\n",
            "1981          NaN     5888.8190      5568.4060\n",
            "1982          NaN     3956.3428      5590.8115\n",
            "1983          NaN     2794.4504      5616.8555\n",
            "1984          NaN     2547.3987      5770.0690\n",
            "1985    6307.0190     2001.2020      5799.9410\n",
            "1986    6526.5470     2937.7393      5609.4917\n",
            "1987    6623.0645     2484.2625      5434.2373\n",
            "1988    6614.9000     3178.5789      5338.8906\n",
            "1989    6422.3887     3153.7424      4989.6550\n",
            "1990    5999.8125     3984.9460      4845.2590\n",
            "1991    5372.4087     4981.6616      4918.2886\n",
            "1992    4638.1600     5141.3650      4803.5605\n",
            "1993    4127.1963     4992.8830      4617.1855\n",
            "1994    3693.4321     5026.3213      4506.6177\n",
            "1995    3614.0107     5015.5874      4460.7300\n",
            "1996    3522.4128     5087.3780      4443.3340\n",
            "1997    3575.2947     5024.4160      4418.8193\n",
            "1998    3539.4740     5178.7773      4281.3467\n",
            "1999    3544.4520     4751.1567      4101.0400\n",
            "2000    3798.9470     5099.9460      4042.3733\n",
            "2001    4090.0337     4974.1143      4006.6650\n",
            "2002    4462.3774     4536.3174      3976.3623\n",
            "2003    4951.0513     5355.6123      3867.6333\n",
            "2004    5388.0737     5731.1167      3783.9050\n",
            "2005    5522.1504     6008.3857      3593.5337\n",
            "2006    5655.1367     5918.9785      3541.3730\n",
            "2007    5783.9590     5686.3700      3546.8767\n",
            "2008    5748.1770     5930.9995      3514.8438\n",
            "2009    5830.8500     5338.2544      3751.6802\n",
            "2010    5958.2305     5388.1865      3874.4780\n",
            "2011    6041.3630     6079.0070      4028.8867\n",
            "2012    6125.9355     6387.4927      4597.0796\n",
            "2013    6189.7603     6261.7440      5218.0586\n",
            "2014    6250.2017     6324.6680      6102.5527\n",
            "2015    6333.1440     6606.2380      6595.9434\n",
            "2016    6495.1120     6823.4634      6312.1840\n",
            "2017    6495.8980     6504.8850      6678.5654\n",
            "2018    6604.5015     6708.3890      7788.5522\n",
            "2019    6668.5120     6472.8400      8736.1020\n",
            "2020    6098.4463     6042.7490      8295.4740\n",
            "2021    6266.0537     5989.7180      8317.9220\n",
            "2022    6379.2515     6665.0560      8832.5210\n"
          ]
        }
      ],
      "source": [
        "ts_df = filtered_df.pivot(index='Year', columns='Entity', values='Oil production (TWh)')\n",
        "print(ts_df)"
      ]
    },
    {
      "cell_type": "code",
      "execution_count": null,
      "metadata": {
        "colab": {
          "base_uri": "https://localhost:8080/",
          "height": 472
        },
        "id": "aQLdAlFCTjij",
        "outputId": "eb48be06-8afe-4268-8af8-bd0e638b24de"
      },
      "outputs": [
        {
          "output_type": "display_data",
          "data": {
            "text/plain": [
              "<Figure size 640x480 with 1 Axes>"
            ],
            "image/png": "[encoded data removed]"
          },
          "metadata": {}
        }
      ],
      "source": [
        "ts_df.plot.line(style=['-ob', '-og', '-or'])\n",
        "plt.xlabel('Year')\n",
        "plt.ylabel('Oil production (TWh)')\n",
        "plt.title('Oil Production Over Years')\n",
        "plt.show()"
      ]
    },
    {
      "cell_type": "markdown",
      "metadata": {
        "id": "FxhBep1AqCD7"
      },
      "source": [
        "#### a) Calculez les corrélations pour les deux séries chronologiques. Trouvez-vous des preuves contre ou en faveur du fait que la production pétrolière soit un jeu de substitution stratégique ? Discuter.\n",
        "\n"
      ]
    },
    {
      "cell_type": "code",
      "execution_count": null,
      "metadata": {
        "colab": {
          "base_uri": "https://localhost:8080/"
        },
        "id": "7bQghg9HnRKN",
        "outputId": "9937ac93-e2d0-4ceb-8ac8-8b385fcad014"
      },
      "outputs": [
        {
          "output_type": "stream",
          "name": "stdout",
          "text": [
            "Correlation between Saudi Arabia and United States: 0.15772293632289247\n"
          ]
        }
      ],
      "source": [
        "correlation = ts_df['Saudi Arabia'].corr(ts_df['United States'])\n",
        "print(f'Correlation between Saudi Arabia and United States: {correlation}')"
      ]
    },
    {
      "cell_type": "code",
      "execution_count": null,
      "metadata": {
        "colab": {
          "base_uri": "https://localhost:8080/"
        },
        "id": "Ov_1MDgBpItK",
        "outputId": "ef3b53e5-acd3-40a3-d8b1-0a7ef0d6e1b2"
      },
      "outputs": [
        {
          "output_type": "stream",
          "name": "stdout",
          "text": [
            "Correlation between Russia and United States: 0.5224497676638387\n"
          ]
        }
      ],
      "source": [
        "correlation = ts_df['Russia'].corr(ts_df['United States'])\n",
        "print(f'Correlation between Russia and United States: {correlation}')"
      ]
    },
    {
      "cell_type": "code",
      "execution_count": null,
      "metadata": {
        "colab": {
          "base_uri": "https://localhost:8080/"
        },
        "id": "d505__qCpzzu",
        "outputId": "0e4703a0-c435-4d1c-da96-fa24c8535b70"
      },
      "outputs": [
        {
          "output_type": "stream",
          "name": "stdout",
          "text": [
            "Correlation between Russia and United States: 0.07982997995106807\n"
          ]
        }
      ],
      "source": [
        "correlation = ts_df['Russia'].corr(ts_df['Saudi Arabia'])\n",
        "print(f'Correlation between Russia and United States: {correlation}')"
      ]
    },
    {
      "cell_type": "markdown",
      "metadata": {
        "id": "xjP0n4cSo5S8"
      },
      "source": [
        "Les preuves suggèrent que la production pétrolière est un jeu complémentaire,\n",
        " puisqu'il semble que la production de chaque pays augmente ou baisse dans la même direction que les autres pays (la production des différentes paires de pays montre toutes une corrélation positive).\n",
        "Toutefois, de telles conclusions sont à nuancer puisqu'il est important de noter le fait que la tendance globale de la production de pétrole augmente continuellement. Ainsi, bien qu'il puisse y avoir une baisse le temps d'une courte période, la tendance générale pour les 3 pays producteurs est positive, même si les parts de marché varient dans le secteur."
      ]
    },
    {
      "cell_type": "markdown",
      "metadata": {
        "id": "R3vpHnh_PAnG"
      },
      "source": [
        "Nous tentons donc désormais de supprimer cette tendance:"
      ]
    },
    {
      "cell_type": "markdown",
      "metadata": {
        "id": "QQ1Nvo2HqYQ-"
      },
      "source": [
        "#### b) Même question que la précédente mais avec le pourcentage d'évolution d'une période à l'autre. Discuter."
      ]
    },
    {
      "cell_type": "code",
      "execution_count": null,
      "metadata": {
        "id": "KDNlXJKtSrxH"
      },
      "outputs": [],
      "source": [
        "ts_df['Russia_change_percentage'] = ts_df['Russia'].pct_change() * 100\n",
        "ts_df['Saudi Arabia_change_percentage'] = ts_df['Saudi Arabia'].pct_change() * 100\n",
        "ts_df['United States_change_percentage'] = ts_df['United States'].pct_change() * 100"
      ]
    },
    {
      "cell_type": "code",
      "execution_count": null,
      "metadata": {
        "colab": {
          "base_uri": "https://localhost:8080/"
        },
        "id": "urjH6Yz1U4q8",
        "outputId": "d5de10b9-f37e-4e0d-8f8f-fce6e8bce932"
      },
      "outputs": [
        {
          "output_type": "stream",
          "name": "stdout",
          "text": [
            "Correlation between Russia and Saudi Arabia percentage change: -0.01608260315221145\n"
          ]
        }
      ],
      "source": [
        "correlation = ts_df['Russia_change_percentage'].corr(ts_df['Saudi Arabia_change_percentage'])\n",
        "print(f'Correlation between Russia and Saudi Arabia percentage change: {correlation}')\n"
      ]
    },
    {
      "cell_type": "code",
      "execution_count": null,
      "metadata": {
        "colab": {
          "base_uri": "https://localhost:8080/"
        },
        "id": "oMFTBY3xTHct",
        "outputId": "cd06ccf6-a95e-4327-c8ae-7a8d14be1243"
      },
      "outputs": [
        {
          "output_type": "stream",
          "name": "stdout",
          "text": [
            "Correlation between Saudi Arabia and United States percentage change: -0.10513471963380006\n"
          ]
        }
      ],
      "source": [
        "correlation = ts_df['Saudi Arabia_change_percentage'].corr(ts_df['United States_change_percentage'])\n",
        "print(f'Correlation between Saudi Arabia and United States percentage change: {correlation}')"
      ]
    },
    {
      "cell_type": "code",
      "execution_count": null,
      "metadata": {
        "colab": {
          "base_uri": "https://localhost:8080/"
        },
        "id": "15xAfO51Sg8c",
        "outputId": "e3e408b6-d65a-4086-9d96-b1c940ad5f80"
      },
      "outputs": [
        {
          "output_type": "stream",
          "name": "stdout",
          "text": [
            "Correlation between United States and Russia percentage change: 0.14147271371354392\n"
          ]
        }
      ],
      "source": [
        "correlation = ts_df['United States_change_percentage'].corr(ts_df['Russia_change_percentage'])\n",
        "print(f'Correlation between United States and Russia percentage change: {correlation}')"
      ]
    },
    {
      "cell_type": "markdown",
      "metadata": {
        "id": "xkkEvdcxr8u4"
      },
      "source": [
        "Pour l’essentiel, nous constatons que la corrélation entre la variation annuelle en pourcentage de la production de différents pays est négativement corrélée pour la paire Russie-Arabie saoudite et la paire Saoudite-États-Unis. Cependant, le pourcentage de variation de la production en Russie et aux États-Unis raconte une histoire différente du fait d'une corrélation positive. Il serait donc préférable d'avoir une demande de marché constante pour assurer la substituabilité des articles qui présentent une corrélation de production négative. Il est possible que la demande du marché dans ce cas augmente constamment, ce qui rend difficile de tirer des conclusions sur la relation entre le pétrole russe et le pétrole américain."
      ]
    },
    {
      "cell_type": "markdown",
      "metadata": {
        "id": "PIe2EqoWtHRi"
      },
      "source": [
        "### 2. Tesla et BYD, quantifiez s’il existe des preuves de compléments stratégiques sur ce marché. Discuter."
      ]
    },
    {
      "cell_type": "code",
      "execution_count": null,
      "metadata": {
        "colab": {
          "base_uri": "https://localhost:8080/",
          "height": 241
        },
        "id": "qJIfnC9TCgNx",
        "outputId": "663bce34-4162-4aa8-b7af-151e5faede82"
      },
      "outputs": [
        {
          "output_type": "stream",
          "name": "stderr",
          "text": [
            "<ipython-input-88-8b7947997643>:6: FutureWarning: The default value of regex will change from True to False in a future version.\n",
            "  byd['COE QP ($)'] = byd['COE QP ($)'].str.replace('[^\\d.]', '', regex=True).str.replace('\\(CAT B\\)', '').astype(float)\n"
          ]
        },
        {
          "output_type": "execute_result",
          "data": {
            "text/plain": [
              "        Date  BYD Model_COE  BYD Model_CAT_B\n",
              "0 2023-08-11       206888.0         126889.0\n",
              "1 2023-08-12       206888.0         126889.0\n",
              "2 2023-08-13       206888.0         126889.0\n",
              "3 2023-08-14       206888.0         126889.0\n",
              "4 2023-08-15       206888.0         126889.0"
            ],
            "text/html": [
              "\n",
              "  <div id=\"df-7c22d711-8c60-46aa-9030-ce255b911a48\" class=\"colab-df-container\">\n",
              "    <div>\n",
              "<style scoped>\n",
              "    .dataframe tbody tr th:only-of-type {\n",
              "        vertical-align: middle;\n",
              "    }\n",
              "\n",
              "    .dataframe tbody tr th {\n",
              "        vertical-align: top;\n",
              "    }\n",
              "\n",
              "    .dataframe thead th {\n",
              "        text-align: right;\n",
              "    }\n",
              "</style>\n",
              "<table border=\"1\" class=\"dataframe\">\n",
              "  <thead>\n",
              "    <tr style=\"text-align: right;\">\n",
              "      <th></th>\n",
              "      <th>Date</th>\n",
              "      <th>BYD Model_COE</th>\n",
              "      <th>BYD Model_CAT_B</th>\n",
              "    </tr>\n",
              "  </thead>\n",
              "  <tbody>\n",
              "    <tr>\n",
              "      <th>0</th>\n",
              "      <td>2023-08-11</td>\n",
              "      <td>206888.0</td>\n",
              "      <td>126889.0</td>\n",
              "    </tr>\n",
              "    <tr>\n",
              "      <th>1</th>\n",
              "      <td>2023-08-12</td>\n",
              "      <td>206888.0</td>\n",
              "      <td>126889.0</td>\n",
              "    </tr>\n",
              "    <tr>\n",
              "      <th>2</th>\n",
              "      <td>2023-08-13</td>\n",
              "      <td>206888.0</td>\n",
              "      <td>126889.0</td>\n",
              "    </tr>\n",
              "    <tr>\n",
              "      <th>3</th>\n",
              "      <td>2023-08-14</td>\n",
              "      <td>206888.0</td>\n",
              "      <td>126889.0</td>\n",
              "    </tr>\n",
              "    <tr>\n",
              "      <th>4</th>\n",
              "      <td>2023-08-15</td>\n",
              "      <td>206888.0</td>\n",
              "      <td>126889.0</td>\n",
              "    </tr>\n",
              "  </tbody>\n",
              "</table>\n",
              "</div>\n",
              "    <div class=\"colab-df-buttons\">\n",
              "\n",
              "  <div class=\"colab-df-container\">\n",
              "    <button class=\"colab-df-convert\" onclick=\"convertToInteractive('df-7c22d711-8c60-46aa-9030-ce255b911a48')\"\n",
              "            title=\"Convert this dataframe to an interactive table.\"\n",
              "            style=\"display:none;\">\n",
              "\n",
              "  <svg xmlns=\"http://www.w3.org/2000/svg\" height=\"24px\" viewBox=\"0 -960 960 960\">\n",
              "    <path d=\"M120-120v-720h720v720H120Zm60-500h600v-160H180v160Zm220 220h160v-160H400v160Zm0 220h160v-160H400v160ZM180-400h160v-160H180v160Zm440 0h160v-160H620v160ZM180-180h160v-160H180v160Zm440 0h160v-160H620v160Z\"/>\n",
              "  </svg>\n",
              "    </button>\n",
              "\n",
              "  <style>\n",
              "    .colab-df-container {\n",
              "      display:flex;\n",
              "      gap: 12px;\n",
              "    }\n",
              "\n",
              "    .colab-df-convert {\n",
              "      background-color: #E8F0FE;\n",
              "      border: none;\n",
              "      border-radius: 50%;\n",
              "      cursor: pointer;\n",
              "      display: none;\n",
              "      fill: #1967D2;\n",
              "      height: 32px;\n",
              "      padding: 0 0 0 0;\n",
              "      width: 32px;\n",
              "    }\n",
              "\n",
              "    .colab-df-convert:hover {\n",
              "      background-color: #E2EBFA;\n",
              "      box-shadow: 0px 1px 2px rgba(60, 64, 67, 0.3), 0px 1px 3px 1px rgba(60, 64, 67, 0.15);\n",
              "      fill: #174EA6;\n",
              "    }\n",
              "\n",
              "    .colab-df-buttons div {\n",
              "      margin-bottom: 4px;\n",
              "    }\n",
              "\n",
              "    [theme=dark] .colab-df-convert {\n",
              "      background-color: #3B4455;\n",
              "      fill: #D2E3FC;\n",
              "    }\n",
              "\n",
              "    [theme=dark] .colab-df-convert:hover {\n",
              "      background-color: #434B5C;\n",
              "      box-shadow: 0px 1px 3px 1px rgba(0, 0, 0, 0.15);\n",
              "      filter: drop-shadow(0px 1px 2px rgba(0, 0, 0, 0.3));\n",
              "      fill: #FFFFFF;\n",
              "    }\n",
              "  </style>\n",
              "\n",
              "    <script>\n",
              "      const buttonEl =\n",
              "        document.querySelector('#df-7c22d711-8c60-46aa-9030-ce255b911a48 button.colab-df-convert');\n",
              "      buttonEl.style.display =\n",
              "        google.colab.kernel.accessAllowed ? 'block' : 'none';\n",
              "\n",
              "      async function convertToInteractive(key) {\n",
              "        const element = document.querySelector('#df-7c22d711-8c60-46aa-9030-ce255b911a48');\n",
              "        const dataTable =\n",
              "          await google.colab.kernel.invokeFunction('convertToInteractive',\n",
              "                                                    [key], {});\n",
              "        if (!dataTable) return;\n",
              "\n",
              "        const docLinkHtml = 'Like what you see? Visit the ' +\n",
              "          '<a target=\"_blank\" href=https://colab.research.google.com/notebooks/data_table.ipynb>data table notebook</a>'\n",
              "          + ' to learn more about interactive tables.';\n",
              "        element.innerHTML = '';\n",
              "        dataTable['output_type'] = 'display_data';\n",
              "        await google.colab.output.renderOutput(dataTable, element);\n",
              "        const docLink = document.createElement('div');\n",
              "        docLink.innerHTML = docLinkHtml;\n",
              "        element.appendChild(docLink);\n",
              "      }\n",
              "    </script>\n",
              "  </div>\n",
              "\n",
              "\n",
              "<div id=\"df-d222f9bd-b168-43d7-a5a7-e596882b22df\">\n",
              "  <button class=\"colab-df-quickchart\" onclick=\"quickchart('df-d222f9bd-b168-43d7-a5a7-e596882b22df')\"\n",
              "            title=\"Suggest charts\"\n",
              "            style=\"display:none;\">\n",
              "\n",
              "<svg xmlns=\"http://www.w3.org/2000/svg\" height=\"24px\"viewBox=\"0 0 24 24\"\n",
              "     width=\"24px\">\n",
              "    <g>\n",
              "        <path d=\"M19 3H5c-1.1 0-2 .9-2 2v14c0 1.1.9 2 2 2h14c1.1 0 2-.9 2-2V5c0-1.1-.9-2-2-2zM9 17H7v-7h2v7zm4 0h-2V7h2v10zm4 0h-2v-4h2v4z\"/>\n",
              "    </g>\n",
              "</svg>\n",
              "  </button>\n",
              "\n",
              "<style>\n",
              "  .colab-df-quickchart {\n",
              "      --bg-color: #E8F0FE;\n",
              "      --fill-color: #1967D2;\n",
              "      --hover-bg-color: #E2EBFA;\n",
              "      --hover-fill-color: #174EA6;\n",
              "      --disabled-fill-color: #AAA;\n",
              "      --disabled-bg-color: #DDD;\n",
              "  }\n",
              "\n",
              "  [theme=dark] .colab-df-quickchart {\n",
              "      --bg-color: #3B4455;\n",
              "      --fill-color: #D2E3FC;\n",
              "      --hover-bg-color: #434B5C;\n",
              "      --hover-fill-color: #FFFFFF;\n",
              "      --disabled-bg-color: #3B4455;\n",
              "      --disabled-fill-color: #666;\n",
              "  }\n",
              "\n",
              "  .colab-df-quickchart {\n",
              "    background-color: var(--bg-color);\n",
              "    border: none;\n",
              "    border-radius: 50%;\n",
              "    cursor: pointer;\n",
              "    display: none;\n",
              "    fill: var(--fill-color);\n",
              "    height: 32px;\n",
              "    padding: 0;\n",
              "    width: 32px;\n",
              "  }\n",
              "\n",
              "  .colab-df-quickchart:hover {\n",
              "    background-color: var(--hover-bg-color);\n",
              "    box-shadow: 0 1px 2px rgba(60, 64, 67, 0.3), 0 1px 3px 1px rgba(60, 64, 67, 0.15);\n",
              "    fill: var(--button-hover-fill-color);\n",
              "  }\n",
              "\n",
              "  .colab-df-quickchart-complete:disabled,\n",
              "  .colab-df-quickchart-complete:disabled:hover {\n",
              "    background-color: var(--disabled-bg-color);\n",
              "    fill: var(--disabled-fill-color);\n",
              "    box-shadow: none;\n",
              "  }\n",
              "\n",
              "  .colab-df-spinner {\n",
              "    border: 2px solid var(--fill-color);\n",
              "    border-color: transparent;\n",
              "    border-bottom-color: var(--fill-color);\n",
              "    animation:\n",
              "      spin 1s steps(1) infinite;\n",
              "  }\n",
              "\n",
              "  @keyframes spin {\n",
              "    0% {\n",
              "      border-color: transparent;\n",
              "      border-bottom-color: var(--fill-color);\n",
              "      border-left-color: var(--fill-color);\n",
              "    }\n",
              "    20% {\n",
              "      border-color: transparent;\n",
              "      border-left-color: var(--fill-color);\n",
              "      border-top-color: var(--fill-color);\n",
              "    }\n",
              "    30% {\n",
              "      border-color: transparent;\n",
              "      border-left-color: var(--fill-color);\n",
              "      border-top-color: var(--fill-color);\n",
              "      border-right-color: var(--fill-color);\n",
              "    }\n",
              "    40% {\n",
              "      border-color: transparent;\n",
              "      border-right-color: var(--fill-color);\n",
              "      border-top-color: var(--fill-color);\n",
              "    }\n",
              "    60% {\n",
              "      border-color: transparent;\n",
              "      border-right-color: var(--fill-color);\n",
              "    }\n",
              "    80% {\n",
              "      border-color: transparent;\n",
              "      border-right-color: var(--fill-color);\n",
              "      border-bottom-color: var(--fill-color);\n",
              "    }\n",
              "    90% {\n",
              "      border-color: transparent;\n",
              "      border-bottom-color: var(--fill-color);\n",
              "    }\n",
              "  }\n",
              "</style>\n",
              "\n",
              "  <script>\n",
              "    async function quickchart(key) {\n",
              "      const quickchartButtonEl =\n",
              "        document.querySelector('#' + key + ' button');\n",
              "      quickchartButtonEl.disabled = true;  // To prevent multiple clicks.\n",
              "      quickchartButtonEl.classList.add('colab-df-spinner');\n",
              "      try {\n",
              "        const charts = await google.colab.kernel.invokeFunction(\n",
              "            'suggestCharts', [key], {});\n",
              "      } catch (error) {\n",
              "        console.error('Error during call to suggestCharts:', error);\n",
              "      }\n",
              "      quickchartButtonEl.classList.remove('colab-df-spinner');\n",
              "      quickchartButtonEl.classList.add('colab-df-quickchart-complete');\n",
              "    }\n",
              "    (() => {\n",
              "      let quickchartButtonEl =\n",
              "        document.querySelector('#df-d222f9bd-b168-43d7-a5a7-e596882b22df button');\n",
              "      quickchartButtonEl.style.display =\n",
              "        google.colab.kernel.accessAllowed ? 'block' : 'none';\n",
              "    })();\n",
              "  </script>\n",
              "</div>\n",
              "\n",
              "    </div>\n",
              "  </div>\n"
            ],
            "application/vnd.google.colaboratory.intrinsic+json": {
              "type": "dataframe",
              "variable_name": "byd",
              "summary": "{\n  \"name\": \"byd\",\n  \"rows\": 175,\n  \"fields\": [\n    {\n      \"column\": \"Date\",\n      \"properties\": {\n        \"dtype\": \"date\",\n        \"min\": \"2023-08-11 00:00:00\",\n        \"max\": \"2024-02-01 00:00:00\",\n        \"samples\": [\n          \"2024-01-14 00:00:00\",\n          \"2024-01-03 00:00:00\",\n          \"2023-11-20 00:00:00\"\n        ],\n        \"num_unique_values\": 175,\n        \"semantic_type\": \"\",\n        \"description\": \"\"\n      }\n    },\n    {\n      \"column\": \"BYD Model_COE\",\n      \"properties\": {\n        \"dtype\": \"number\",\n        \"std\": 16640.99237599127,\n        \"min\": 171888.0,\n        \"max\": 231888.0,\n        \"samples\": [\n          231888.0,\n          206888.0,\n          171888.0\n        ],\n        \"num_unique_values\": 11,\n        \"semantic_type\": \"\",\n        \"description\": \"\"\n      }\n    },\n    {\n      \"column\": \"BYD Model_CAT_B\",\n      \"properties\": {\n        \"dtype\": \"number\",\n        \"std\": 17107.95821953186,\n        \"min\": 85010.0,\n        \"max\": 150001.0,\n        \"samples\": [\n          150001.0,\n          126889.0,\n          85010.0\n        ],\n        \"num_unique_values\": 11,\n        \"semantic_type\": \"\",\n        \"description\": \"\"\n      }\n    }\n  ]\n}"
            }
          },
          "metadata": {},
          "execution_count": 88
        }
      ],
      "source": [
        "byd = pd.read_csv('byd.csv')\n",
        "# Clean, rename and reorder column\n",
        "byd['Date'] = pd.to_datetime(byd['Date'], format='%d-%b-%y')\n",
        "byd = byd.sort_values(by='Date')\n",
        "byd['Price'] = byd['Price'].str.replace('[^\\d.]', '', regex=True).str.replace(' with COE', '').astype(float)\n",
        "byd['COE QP ($)'] = byd['COE QP ($)'].str.replace('[^\\d.]', '', regex=True).str.replace('\\(CAT B\\)', '').astype(float)\n",
        "byd = byd.rename(columns={'Price': 'BYD Model_COE', 'COE QP ($)': 'BYD Model_CAT_B'})\n",
        "byd = byd[['Date', 'BYD Model_COE', 'BYD Model_CAT_B']]\n",
        "\n",
        "# Impute in-between days with last available price\n",
        "byd.set_index('Date', inplace=True)\n",
        "byd = byd.resample('D').ffill()\n",
        "byd.reset_index(inplace=True)\n",
        "\n",
        "byd.head()"
      ]
    },
    {
      "cell_type": "code",
      "execution_count": null,
      "metadata": {
        "colab": {
          "base_uri": "https://localhost:8080/",
          "height": 328
        },
        "id": "tQB53vrJBsb6",
        "outputId": "3f8d4499-4a47-476d-e994-266b26990a11"
      },
      "outputs": [
        {
          "output_type": "execute_result",
          "data": {
            "text/plain": [
              "        date  Tesla_Model 3  Tesla_Model 3 Long Range  \\\n",
              "0 2023-08-14        40240.0                   47240.0   \n",
              "1 2023-08-15        40240.0                   47240.0   \n",
              "2 2023-08-16        40240.0                   47240.0   \n",
              "3 2023-08-17        40240.0                   47240.0   \n",
              "4 2023-08-18        40240.0                   47240.0   \n",
              "\n",
              "   Tesla_Model 3 Performance  Tesla_Model S  Tesla_Model S Plaid  \\\n",
              "0                    53240.0        88490.0             108490.0   \n",
              "1                    53240.0        88490.0             108490.0   \n",
              "2                    53240.0        88490.0             108490.0   \n",
              "3                    53240.0        88490.0             108490.0   \n",
              "4                    53240.0        88490.0             108490.0   \n",
              "\n",
              "   Tesla_Model X  Tesla_Model X Plaid  Tesla_Model Y  \\\n",
              "0        98490.0             108490.0        47490.0   \n",
              "1        98490.0             108490.0        47490.0   \n",
              "2        98490.0             108490.0        47490.0   \n",
              "3        98490.0             108490.0        47490.0   \n",
              "4        98490.0             108490.0        47490.0   \n",
              "\n",
              "   Tesla_Model Y Long Range  Tesla_Model Y Performance  \n",
              "0                   50490.0                    54490.0  \n",
              "1                   50490.0                    54490.0  \n",
              "2                   50490.0                    54490.0  \n",
              "3                   50490.0                    54490.0  \n",
              "4                   50490.0                    54490.0  "
            ],
            "text/html": [
              "\n",
              "  <div id=\"df-f97593e0-aced-4099-98b4-d99c2348bb00\" class=\"colab-df-container\">\n",
              "    <div>\n",
              "<style scoped>\n",
              "    .dataframe tbody tr th:only-of-type {\n",
              "        vertical-align: middle;\n",
              "    }\n",
              "\n",
              "    .dataframe tbody tr th {\n",
              "        vertical-align: top;\n",
              "    }\n",
              "\n",
              "    .dataframe thead th {\n",
              "        text-align: right;\n",
              "    }\n",
              "</style>\n",
              "<table border=\"1\" class=\"dataframe\">\n",
              "  <thead>\n",
              "    <tr style=\"text-align: right;\">\n",
              "      <th></th>\n",
              "      <th>date</th>\n",
              "      <th>Tesla_Model 3</th>\n",
              "      <th>Tesla_Model 3 Long Range</th>\n",
              "      <th>Tesla_Model 3 Performance</th>\n",
              "      <th>Tesla_Model S</th>\n",
              "      <th>Tesla_Model S Plaid</th>\n",
              "      <th>Tesla_Model X</th>\n",
              "      <th>Tesla_Model X Plaid</th>\n",
              "      <th>Tesla_Model Y</th>\n",
              "      <th>Tesla_Model Y Long Range</th>\n",
              "      <th>Tesla_Model Y Performance</th>\n",
              "    </tr>\n",
              "  </thead>\n",
              "  <tbody>\n",
              "    <tr>\n",
              "      <th>0</th>\n",
              "      <td>2023-08-14</td>\n",
              "      <td>40240.0</td>\n",
              "      <td>47240.0</td>\n",
              "      <td>53240.0</td>\n",
              "      <td>88490.0</td>\n",
              "      <td>108490.0</td>\n",
              "      <td>98490.0</td>\n",
              "      <td>108490.0</td>\n",
              "      <td>47490.0</td>\n",
              "      <td>50490.0</td>\n",
              "      <td>54490.0</td>\n",
              "    </tr>\n",
              "    <tr>\n",
              "      <th>1</th>\n",
              "      <td>2023-08-15</td>\n",
              "      <td>40240.0</td>\n",
              "      <td>47240.0</td>\n",
              "      <td>53240.0</td>\n",
              "      <td>88490.0</td>\n",
              "      <td>108490.0</td>\n",
              "      <td>98490.0</td>\n",
              "      <td>108490.0</td>\n",
              "      <td>47490.0</td>\n",
              "      <td>50490.0</td>\n",
              "      <td>54490.0</td>\n",
              "    </tr>\n",
              "    <tr>\n",
              "      <th>2</th>\n",
              "      <td>2023-08-16</td>\n",
              "      <td>40240.0</td>\n",
              "      <td>47240.0</td>\n",
              "      <td>53240.0</td>\n",
              "      <td>88490.0</td>\n",
              "      <td>108490.0</td>\n",
              "      <td>98490.0</td>\n",
              "      <td>108490.0</td>\n",
              "      <td>47490.0</td>\n",
              "      <td>50490.0</td>\n",
              "      <td>54490.0</td>\n",
              "    </tr>\n",
              "    <tr>\n",
              "      <th>3</th>\n",
              "      <td>2023-08-17</td>\n",
              "      <td>40240.0</td>\n",
              "      <td>47240.0</td>\n",
              "      <td>53240.0</td>\n",
              "      <td>88490.0</td>\n",
              "      <td>108490.0</td>\n",
              "      <td>98490.0</td>\n",
              "      <td>108490.0</td>\n",
              "      <td>47490.0</td>\n",
              "      <td>50490.0</td>\n",
              "      <td>54490.0</td>\n",
              "    </tr>\n",
              "    <tr>\n",
              "      <th>4</th>\n",
              "      <td>2023-08-18</td>\n",
              "      <td>40240.0</td>\n",
              "      <td>47240.0</td>\n",
              "      <td>53240.0</td>\n",
              "      <td>88490.0</td>\n",
              "      <td>108490.0</td>\n",
              "      <td>98490.0</td>\n",
              "      <td>108490.0</td>\n",
              "      <td>47490.0</td>\n",
              "      <td>50490.0</td>\n",
              "      <td>54490.0</td>\n",
              "    </tr>\n",
              "  </tbody>\n",
              "</table>\n",
              "</div>\n",
              "    <div class=\"colab-df-buttons\">\n",
              "\n",
              "  <div class=\"colab-df-container\">\n",
              "    <button class=\"colab-df-convert\" onclick=\"convertToInteractive('df-f97593e0-aced-4099-98b4-d99c2348bb00')\"\n",
              "            title=\"Convert this dataframe to an interactive table.\"\n",
              "            style=\"display:none;\">\n",
              "\n",
              "  <svg xmlns=\"http://www.w3.org/2000/svg\" height=\"24px\" viewBox=\"0 -960 960 960\">\n",
              "    <path d=\"M120-120v-720h720v720H120Zm60-500h600v-160H180v160Zm220 220h160v-160H400v160Zm0 220h160v-160H400v160ZM180-400h160v-160H180v160Zm440 0h160v-160H620v160ZM180-180h160v-160H180v160Zm440 0h160v-160H620v160Z\"/>\n",
              "  </svg>\n",
              "    </button>\n",
              "\n",
              "  <style>\n",
              "    .colab-df-container {\n",
              "      display:flex;\n",
              "      gap: 12px;\n",
              "    }\n",
              "\n",
              "    .colab-df-convert {\n",
              "      background-color: #E8F0FE;\n",
              "      border: none;\n",
              "      border-radius: 50%;\n",
              "      cursor: pointer;\n",
              "      display: none;\n",
              "      fill: #1967D2;\n",
              "      height: 32px;\n",
              "      padding: 0 0 0 0;\n",
              "      width: 32px;\n",
              "    }\n",
              "\n",
              "    .colab-df-convert:hover {\n",
              "      background-color: #E2EBFA;\n",
              "      box-shadow: 0px 1px 2px rgba(60, 64, 67, 0.3), 0px 1px 3px 1px rgba(60, 64, 67, 0.15);\n",
              "      fill: #174EA6;\n",
              "    }\n",
              "\n",
              "    .colab-df-buttons div {\n",
              "      margin-bottom: 4px;\n",
              "    }\n",
              "\n",
              "    [theme=dark] .colab-df-convert {\n",
              "      background-color: #3B4455;\n",
              "      fill: #D2E3FC;\n",
              "    }\n",
              "\n",
              "    [theme=dark] .colab-df-convert:hover {\n",
              "      background-color: #434B5C;\n",
              "      box-shadow: 0px 1px 3px 1px rgba(0, 0, 0, 0.15);\n",
              "      filter: drop-shadow(0px 1px 2px rgba(0, 0, 0, 0.3));\n",
              "      fill: #FFFFFF;\n",
              "    }\n",
              "  </style>\n",
              "\n",
              "    <script>\n",
              "      const buttonEl =\n",
              "        document.querySelector('#df-f97593e0-aced-4099-98b4-d99c2348bb00 button.colab-df-convert');\n",
              "      buttonEl.style.display =\n",
              "        google.colab.kernel.accessAllowed ? 'block' : 'none';\n",
              "\n",
              "      async function convertToInteractive(key) {\n",
              "        const element = document.querySelector('#df-f97593e0-aced-4099-98b4-d99c2348bb00');\n",
              "        const dataTable =\n",
              "          await google.colab.kernel.invokeFunction('convertToInteractive',\n",
              "                                                    [key], {});\n",
              "        if (!dataTable) return;\n",
              "\n",
              "        const docLinkHtml = 'Like what you see? Visit the ' +\n",
              "          '<a target=\"_blank\" href=https://colab.research.google.com/notebooks/data_table.ipynb>data table notebook</a>'\n",
              "          + ' to learn more about interactive tables.';\n",
              "        element.innerHTML = '';\n",
              "        dataTable['output_type'] = 'display_data';\n",
              "        await google.colab.output.renderOutput(dataTable, element);\n",
              "        const docLink = document.createElement('div');\n",
              "        docLink.innerHTML = docLinkHtml;\n",
              "        element.appendChild(docLink);\n",
              "      }\n",
              "    </script>\n",
              "  </div>\n",
              "\n",
              "\n",
              "<div id=\"df-026d0728-fc19-462b-8f39-8f396cf3c5f2\">\n",
              "  <button class=\"colab-df-quickchart\" onclick=\"quickchart('df-026d0728-fc19-462b-8f39-8f396cf3c5f2')\"\n",
              "            title=\"Suggest charts\"\n",
              "            style=\"display:none;\">\n",
              "\n",
              "<svg xmlns=\"http://www.w3.org/2000/svg\" height=\"24px\"viewBox=\"0 0 24 24\"\n",
              "     width=\"24px\">\n",
              "    <g>\n",
              "        <path d=\"M19 3H5c-1.1 0-2 .9-2 2v14c0 1.1.9 2 2 2h14c1.1 0 2-.9 2-2V5c0-1.1-.9-2-2-2zM9 17H7v-7h2v7zm4 0h-2V7h2v10zm4 0h-2v-4h2v4z\"/>\n",
              "    </g>\n",
              "</svg>\n",
              "  </button>\n",
              "\n",
              "<style>\n",
              "  .colab-df-quickchart {\n",
              "      --bg-color: #E8F0FE;\n",
              "      --fill-color: #1967D2;\n",
              "      --hover-bg-color: #E2EBFA;\n",
              "      --hover-fill-color: #174EA6;\n",
              "      --disabled-fill-color: #AAA;\n",
              "      --disabled-bg-color: #DDD;\n",
              "  }\n",
              "\n",
              "  [theme=dark] .colab-df-quickchart {\n",
              "      --bg-color: #3B4455;\n",
              "      --fill-color: #D2E3FC;\n",
              "      --hover-bg-color: #434B5C;\n",
              "      --hover-fill-color: #FFFFFF;\n",
              "      --disabled-bg-color: #3B4455;\n",
              "      --disabled-fill-color: #666;\n",
              "  }\n",
              "\n",
              "  .colab-df-quickchart {\n",
              "    background-color: var(--bg-color);\n",
              "    border: none;\n",
              "    border-radius: 50%;\n",
              "    cursor: pointer;\n",
              "    display: none;\n",
              "    fill: var(--fill-color);\n",
              "    height: 32px;\n",
              "    padding: 0;\n",
              "    width: 32px;\n",
              "  }\n",
              "\n",
              "  .colab-df-quickchart:hover {\n",
              "    background-color: var(--hover-bg-color);\n",
              "    box-shadow: 0 1px 2px rgba(60, 64, 67, 0.3), 0 1px 3px 1px rgba(60, 64, 67, 0.15);\n",
              "    fill: var(--button-hover-fill-color);\n",
              "  }\n",
              "\n",
              "  .colab-df-quickchart-complete:disabled,\n",
              "  .colab-df-quickchart-complete:disabled:hover {\n",
              "    background-color: var(--disabled-bg-color);\n",
              "    fill: var(--disabled-fill-color);\n",
              "    box-shadow: none;\n",
              "  }\n",
              "\n",
              "  .colab-df-spinner {\n",
              "    border: 2px solid var(--fill-color);\n",
              "    border-color: transparent;\n",
              "    border-bottom-color: var(--fill-color);\n",
              "    animation:\n",
              "      spin 1s steps(1) infinite;\n",
              "  }\n",
              "\n",
              "  @keyframes spin {\n",
              "    0% {\n",
              "      border-color: transparent;\n",
              "      border-bottom-color: var(--fill-color);\n",
              "      border-left-color: var(--fill-color);\n",
              "    }\n",
              "    20% {\n",
              "      border-color: transparent;\n",
              "      border-left-color: var(--fill-color);\n",
              "      border-top-color: var(--fill-color);\n",
              "    }\n",
              "    30% {\n",
              "      border-color: transparent;\n",
              "      border-left-color: var(--fill-color);\n",
              "      border-top-color: var(--fill-color);\n",
              "      border-right-color: var(--fill-color);\n",
              "    }\n",
              "    40% {\n",
              "      border-color: transparent;\n",
              "      border-right-color: var(--fill-color);\n",
              "      border-top-color: var(--fill-color);\n",
              "    }\n",
              "    60% {\n",
              "      border-color: transparent;\n",
              "      border-right-color: var(--fill-color);\n",
              "    }\n",
              "    80% {\n",
              "      border-color: transparent;\n",
              "      border-right-color: var(--fill-color);\n",
              "      border-bottom-color: var(--fill-color);\n",
              "    }\n",
              "    90% {\n",
              "      border-color: transparent;\n",
              "      border-bottom-color: var(--fill-color);\n",
              "    }\n",
              "  }\n",
              "</style>\n",
              "\n",
              "  <script>\n",
              "    async function quickchart(key) {\n",
              "      const quickchartButtonEl =\n",
              "        document.querySelector('#' + key + ' button');\n",
              "      quickchartButtonEl.disabled = true;  // To prevent multiple clicks.\n",
              "      quickchartButtonEl.classList.add('colab-df-spinner');\n",
              "      try {\n",
              "        const charts = await google.colab.kernel.invokeFunction(\n",
              "            'suggestCharts', [key], {});\n",
              "      } catch (error) {\n",
              "        console.error('Error during call to suggestCharts:', error);\n",
              "      }\n",
              "      quickchartButtonEl.classList.remove('colab-df-spinner');\n",
              "      quickchartButtonEl.classList.add('colab-df-quickchart-complete');\n",
              "    }\n",
              "    (() => {\n",
              "      let quickchartButtonEl =\n",
              "        document.querySelector('#df-026d0728-fc19-462b-8f39-8f396cf3c5f2 button');\n",
              "      quickchartButtonEl.style.display =\n",
              "        google.colab.kernel.accessAllowed ? 'block' : 'none';\n",
              "    })();\n",
              "  </script>\n",
              "</div>\n",
              "\n",
              "    </div>\n",
              "  </div>\n"
            ],
            "application/vnd.google.colaboratory.intrinsic+json": {
              "type": "dataframe",
              "variable_name": "tesla_by_type",
              "summary": "{\n  \"name\": \"tesla_by_type\",\n  \"rows\": 79,\n  \"fields\": [\n    {\n      \"column\": \"date\",\n      \"properties\": {\n        \"dtype\": \"date\",\n        \"min\": \"2023-08-14 00:00:00\",\n        \"max\": \"2023-10-31 00:00:00\",\n        \"samples\": [\n          \"2023-09-13 00:00:00\",\n          \"2023-08-14 00:00:00\",\n          \"2023-09-05 00:00:00\"\n        ],\n        \"num_unique_values\": 79,\n        \"semantic_type\": \"\",\n        \"description\": \"\"\n      }\n    },\n    {\n      \"column\": \"Tesla_Model 3\",\n      \"properties\": {\n        \"dtype\": \"number\",\n        \"std\": 596.6679631317977,\n        \"min\": 38990.0,\n        \"max\": 40240.0,\n        \"samples\": [\n          38990.0,\n          40240.0\n        ],\n        \"num_unique_values\": 2,\n        \"semantic_type\": \"\",\n        \"description\": \"\"\n      }\n    },\n    {\n      \"column\": \"Tesla_Model 3 Long Range\",\n      \"properties\": {\n        \"dtype\": \"number\",\n        \"std\": 596.6679631317977,\n        \"min\": 45990.0,\n        \"max\": 47240.0,\n        \"samples\": [\n          45990.0,\n          47240.0\n        ],\n        \"num_unique_values\": 2,\n        \"semantic_type\": \"\",\n        \"description\": \"\"\n      }\n    },\n    {\n      \"column\": \"Tesla_Model 3 Performance\",\n      \"properties\": {\n        \"dtype\": \"number\",\n        \"std\": 1074.0023336372356,\n        \"min\": 50990.0,\n        \"max\": 53240.0,\n        \"samples\": [\n          50990.0,\n          53240.0\n        ],\n        \"num_unique_values\": 2,\n        \"semantic_type\": \"\",\n        \"description\": \"\"\n      }\n    },\n    {\n      \"column\": \"Tesla_Model S\",\n      \"properties\": {\n        \"dtype\": \"number\",\n        \"std\": 5583.329094545133,\n        \"min\": 74990.0,\n        \"max\": 88490.0,\n        \"samples\": [\n          74990.0,\n          88490.0\n        ],\n        \"num_unique_values\": 2,\n        \"semantic_type\": \"\",\n        \"description\": \"\"\n      }\n    },\n    {\n      \"column\": \"Tesla_Model S Plaid\",\n      \"properties\": {\n        \"dtype\": \"number\",\n        \"std\": 7651.228759191476,\n        \"min\": 89990.0,\n        \"max\": 108490.0,\n        \"samples\": [\n          89990.0,\n          108490.0\n        ],\n        \"num_unique_values\": 2,\n        \"semantic_type\": \"\",\n        \"description\": \"\"\n      }\n    },\n    {\n      \"column\": \"Tesla_Model X\",\n      \"properties\": {\n        \"dtype\": \"number\",\n        \"std\": 7651.228759191476,\n        \"min\": 79990.0,\n        \"max\": 98490.0,\n        \"samples\": [\n          79990.0,\n          98490.0\n        ],\n        \"num_unique_values\": 2,\n        \"semantic_type\": \"\",\n        \"description\": \"\"\n      }\n    },\n    {\n      \"column\": \"Tesla_Model X Plaid\",\n      \"properties\": {\n        \"dtype\": \"number\",\n        \"std\": 7442.263975878587,\n        \"min\": 89990.0,\n        \"max\": 108490.0,\n        \"samples\": [\n          108490.0,\n          89990.0\n        ],\n        \"num_unique_values\": 3,\n        \"semantic_type\": \"\",\n        \"description\": \"\"\n      }\n    },\n    {\n      \"column\": \"Tesla_Model Y\",\n      \"properties\": {\n        \"dtype\": \"number\",\n        \"std\": 1709.4872449658906,\n        \"min\": 43990.0,\n        \"max\": 47490.0,\n        \"samples\": [\n          43990.0,\n          47490.0\n        ],\n        \"num_unique_values\": 2,\n        \"semantic_type\": \"\",\n        \"description\": \"\"\n      }\n    },\n    {\n      \"column\": \"Tesla_Model Y Long Range\",\n      \"properties\": {\n        \"dtype\": \"number\",\n        \"std\": 909.888337521449,\n        \"min\": 48490.0,\n        \"max\": 50490.0,\n        \"samples\": [\n          50490.0,\n          48490.0\n        ],\n        \"num_unique_values\": 3,\n        \"semantic_type\": \"\",\n        \"description\": \"\"\n      }\n    },\n    {\n      \"column\": \"Tesla_Model Y Performance\",\n      \"properties\": {\n        \"dtype\": \"number\",\n        \"std\": 954.6687410108759,\n        \"min\": 52490.0,\n        \"max\": 54490.0,\n        \"samples\": [\n          52490.0,\n          54490.0\n        ],\n        \"num_unique_values\": 2,\n        \"semantic_type\": \"\",\n        \"description\": \"\"\n      }\n    }\n  ]\n}"
            }
          },
          "metadata": {},
          "execution_count": 89
        }
      ],
      "source": [
        "# Clean, pivot data and keep only time period comparable to byd data\n",
        "tesla = pd.read_csv('US Tesla Car Prices - Sheet1.csv')\n",
        "tesla['date'] = pd.to_datetime(tesla['date'])\n",
        "tesla = tesla.sort_values(by='date')\n",
        "tesla_by_type = tesla.pivot_table(index='date', columns='name', values='price', aggfunc='mean').reset_index()\n",
        "tesla_by_type.fillna(method='ffill', inplace=True)\n",
        "tesla_by_type = tesla_by_type[tesla_by_type['date'] > '2023-07-30']\n",
        "\n",
        "#Impute the in-between days with values from the last available price\n",
        "tesla_by_type.set_index('date', inplace=True)\n",
        "tesla_by_type = tesla_by_type.resample('D').ffill()\n",
        "tesla_by_type.reset_index(inplace=True)\n",
        "tesla_by_type.columns = ['Tesla_' + col if col != 'date' else col for col in tesla_by_type.columns]\n",
        "\n",
        "tesla_by_type.head()"
      ]
    },
    {
      "cell_type": "code",
      "execution_count": null,
      "metadata": {
        "colab": {
          "base_uri": "https://localhost:8080/",
          "height": 348
        },
        "id": "Jl_PqMABB7Tq",
        "outputId": "7dd836e1-f932-401a-921f-08c5287d8397"
      },
      "outputs": [
        {
          "output_type": "execute_result",
          "data": {
            "text/plain": [
              "        date  Tesla_Model 3  Tesla_Model 3 Long Range  \\\n",
              "0 2023-08-14        40240.0                   47240.0   \n",
              "1 2023-08-15        40240.0                   47240.0   \n",
              "2 2023-08-16        40240.0                   47240.0   \n",
              "3 2023-08-17        40240.0                   47240.0   \n",
              "4 2023-08-18        40240.0                   47240.0   \n",
              "\n",
              "   Tesla_Model 3 Performance  Tesla_Model S  Tesla_Model S Plaid  \\\n",
              "0                    53240.0        88490.0             108490.0   \n",
              "1                    53240.0        88490.0             108490.0   \n",
              "2                    53240.0        88490.0             108490.0   \n",
              "3                    53240.0        88490.0             108490.0   \n",
              "4                    53240.0        88490.0             108490.0   \n",
              "\n",
              "   Tesla_Model X  Tesla_Model X Plaid  Tesla_Model Y  \\\n",
              "0        98490.0             108490.0        47490.0   \n",
              "1        98490.0             108490.0        47490.0   \n",
              "2        98490.0             108490.0        47490.0   \n",
              "3        98490.0             108490.0        47490.0   \n",
              "4        98490.0             108490.0        47490.0   \n",
              "\n",
              "   Tesla_Model Y Long Range  Tesla_Model Y Performance  BYD Model_COE  \\\n",
              "0                   50490.0                    54490.0       206888.0   \n",
              "1                   50490.0                    54490.0       206888.0   \n",
              "2                   50490.0                    54490.0       206888.0   \n",
              "3                   50490.0                    54490.0       206888.0   \n",
              "4                   50490.0                    54490.0       206888.0   \n",
              "\n",
              "   BYD Model_CAT_B  constant  \n",
              "0         126889.0         1  \n",
              "1         126889.0         1  \n",
              "2         126889.0         1  \n",
              "3         126889.0         1  \n",
              "4         126889.0         1  "
            ],
            "text/html": [
              "\n",
              "  <div id=\"df-0ff49c6d-5583-4854-806d-670a1549fdab\" class=\"colab-df-container\">\n",
              "    <div>\n",
              "<style scoped>\n",
              "    .dataframe tbody tr th:only-of-type {\n",
              "        vertical-align: middle;\n",
              "    }\n",
              "\n",
              "    .dataframe tbody tr th {\n",
              "        vertical-align: top;\n",
              "    }\n",
              "\n",
              "    .dataframe thead th {\n",
              "        text-align: right;\n",
              "    }\n",
              "</style>\n",
              "<table border=\"1\" class=\"dataframe\">\n",
              "  <thead>\n",
              "    <tr style=\"text-align: right;\">\n",
              "      <th></th>\n",
              "      <th>date</th>\n",
              "      <th>Tesla_Model 3</th>\n",
              "      <th>Tesla_Model 3 Long Range</th>\n",
              "      <th>Tesla_Model 3 Performance</th>\n",
              "      <th>Tesla_Model S</th>\n",
              "      <th>Tesla_Model S Plaid</th>\n",
              "      <th>Tesla_Model X</th>\n",
              "      <th>Tesla_Model X Plaid</th>\n",
              "      <th>Tesla_Model Y</th>\n",
              "      <th>Tesla_Model Y Long Range</th>\n",
              "      <th>Tesla_Model Y Performance</th>\n",
              "      <th>BYD Model_COE</th>\n",
              "      <th>BYD Model_CAT_B</th>\n",
              "      <th>constant</th>\n",
              "    </tr>\n",
              "  </thead>\n",
              "  <tbody>\n",
              "    <tr>\n",
              "      <th>0</th>\n",
              "      <td>2023-08-14</td>\n",
              "      <td>40240.0</td>\n",
              "      <td>47240.0</td>\n",
              "      <td>53240.0</td>\n",
              "      <td>88490.0</td>\n",
              "      <td>108490.0</td>\n",
              "      <td>98490.0</td>\n",
              "      <td>108490.0</td>\n",
              "      <td>47490.0</td>\n",
              "      <td>50490.0</td>\n",
              "      <td>54490.0</td>\n",
              "      <td>206888.0</td>\n",
              "      <td>126889.0</td>\n",
              "      <td>1</td>\n",
              "    </tr>\n",
              "    <tr>\n",
              "      <th>1</th>\n",
              "      <td>2023-08-15</td>\n",
              "      <td>40240.0</td>\n",
              "      <td>47240.0</td>\n",
              "      <td>53240.0</td>\n",
              "      <td>88490.0</td>\n",
              "      <td>108490.0</td>\n",
              "      <td>98490.0</td>\n",
              "      <td>108490.0</td>\n",
              "      <td>47490.0</td>\n",
              "      <td>50490.0</td>\n",
              "      <td>54490.0</td>\n",
              "      <td>206888.0</td>\n",
              "      <td>126889.0</td>\n",
              "      <td>1</td>\n",
              "    </tr>\n",
              "    <tr>\n",
              "      <th>2</th>\n",
              "      <td>2023-08-16</td>\n",
              "      <td>40240.0</td>\n",
              "      <td>47240.0</td>\n",
              "      <td>53240.0</td>\n",
              "      <td>88490.0</td>\n",
              "      <td>108490.0</td>\n",
              "      <td>98490.0</td>\n",
              "      <td>108490.0</td>\n",
              "      <td>47490.0</td>\n",
              "      <td>50490.0</td>\n",
              "      <td>54490.0</td>\n",
              "      <td>206888.0</td>\n",
              "      <td>126889.0</td>\n",
              "      <td>1</td>\n",
              "    </tr>\n",
              "    <tr>\n",
              "      <th>3</th>\n",
              "      <td>2023-08-17</td>\n",
              "      <td>40240.0</td>\n",
              "      <td>47240.0</td>\n",
              "      <td>53240.0</td>\n",
              "      <td>88490.0</td>\n",
              "      <td>108490.0</td>\n",
              "      <td>98490.0</td>\n",
              "      <td>108490.0</td>\n",
              "      <td>47490.0</td>\n",
              "      <td>50490.0</td>\n",
              "      <td>54490.0</td>\n",
              "      <td>206888.0</td>\n",
              "      <td>126889.0</td>\n",
              "      <td>1</td>\n",
              "    </tr>\n",
              "    <tr>\n",
              "      <th>4</th>\n",
              "      <td>2023-08-18</td>\n",
              "      <td>40240.0</td>\n",
              "      <td>47240.0</td>\n",
              "      <td>53240.0</td>\n",
              "      <td>88490.0</td>\n",
              "      <td>108490.0</td>\n",
              "      <td>98490.0</td>\n",
              "      <td>108490.0</td>\n",
              "      <td>47490.0</td>\n",
              "      <td>50490.0</td>\n",
              "      <td>54490.0</td>\n",
              "      <td>206888.0</td>\n",
              "      <td>126889.0</td>\n",
              "      <td>1</td>\n",
              "    </tr>\n",
              "  </tbody>\n",
              "</table>\n",
              "</div>\n",
              "    <div class=\"colab-df-buttons\">\n",
              "\n",
              "  <div class=\"colab-df-container\">\n",
              "    <button class=\"colab-df-convert\" onclick=\"convertToInteractive('df-0ff49c6d-5583-4854-806d-670a1549fdab')\"\n",
              "            title=\"Convert this dataframe to an interactive table.\"\n",
              "            style=\"display:none;\">\n",
              "\n",
              "  <svg xmlns=\"http://www.w3.org/2000/svg\" height=\"24px\" viewBox=\"0 -960 960 960\">\n",
              "    <path d=\"M120-120v-720h720v720H120Zm60-500h600v-160H180v160Zm220 220h160v-160H400v160Zm0 220h160v-160H400v160ZM180-400h160v-160H180v160Zm440 0h160v-160H620v160ZM180-180h160v-160H180v160Zm440 0h160v-160H620v160Z\"/>\n",
              "  </svg>\n",
              "    </button>\n",
              "\n",
              "  <style>\n",
              "    .colab-df-container {\n",
              "      display:flex;\n",
              "      gap: 12px;\n",
              "    }\n",
              "\n",
              "    .colab-df-convert {\n",
              "      background-color: #E8F0FE;\n",
              "      border: none;\n",
              "      border-radius: 50%;\n",
              "      cursor: pointer;\n",
              "      display: none;\n",
              "      fill: #1967D2;\n",
              "      height: 32px;\n",
              "      padding: 0 0 0 0;\n",
              "      width: 32px;\n",
              "    }\n",
              "\n",
              "    .colab-df-convert:hover {\n",
              "      background-color: #E2EBFA;\n",
              "      box-shadow: 0px 1px 2px rgba(60, 64, 67, 0.3), 0px 1px 3px 1px rgba(60, 64, 67, 0.15);\n",
              "      fill: #174EA6;\n",
              "    }\n",
              "\n",
              "    .colab-df-buttons div {\n",
              "      margin-bottom: 4px;\n",
              "    }\n",
              "\n",
              "    [theme=dark] .colab-df-convert {\n",
              "      background-color: #3B4455;\n",
              "      fill: #D2E3FC;\n",
              "    }\n",
              "\n",
              "    [theme=dark] .colab-df-convert:hover {\n",
              "      background-color: #434B5C;\n",
              "      box-shadow: 0px 1px 3px 1px rgba(0, 0, 0, 0.15);\n",
              "      filter: drop-shadow(0px 1px 2px rgba(0, 0, 0, 0.3));\n",
              "      fill: #FFFFFF;\n",
              "    }\n",
              "  </style>\n",
              "\n",
              "    <script>\n",
              "      const buttonEl =\n",
              "        document.querySelector('#df-0ff49c6d-5583-4854-806d-670a1549fdab button.colab-df-convert');\n",
              "      buttonEl.style.display =\n",
              "        google.colab.kernel.accessAllowed ? 'block' : 'none';\n",
              "\n",
              "      async function convertToInteractive(key) {\n",
              "        const element = document.querySelector('#df-0ff49c6d-5583-4854-806d-670a1549fdab');\n",
              "        const dataTable =\n",
              "          await google.colab.kernel.invokeFunction('convertToInteractive',\n",
              "                                                    [key], {});\n",
              "        if (!dataTable) return;\n",
              "\n",
              "        const docLinkHtml = 'Like what you see? Visit the ' +\n",
              "          '<a target=\"_blank\" href=https://colab.research.google.com/notebooks/data_table.ipynb>data table notebook</a>'\n",
              "          + ' to learn more about interactive tables.';\n",
              "        element.innerHTML = '';\n",
              "        dataTable['output_type'] = 'display_data';\n",
              "        await google.colab.output.renderOutput(dataTable, element);\n",
              "        const docLink = document.createElement('div');\n",
              "        docLink.innerHTML = docLinkHtml;\n",
              "        element.appendChild(docLink);\n",
              "      }\n",
              "    </script>\n",
              "  </div>\n",
              "\n",
              "\n",
              "<div id=\"df-cd1a287d-a8b6-4204-8840-3324ffe14963\">\n",
              "  <button class=\"colab-df-quickchart\" onclick=\"quickchart('df-cd1a287d-a8b6-4204-8840-3324ffe14963')\"\n",
              "            title=\"Suggest charts\"\n",
              "            style=\"display:none;\">\n",
              "\n",
              "<svg xmlns=\"http://www.w3.org/2000/svg\" height=\"24px\"viewBox=\"0 0 24 24\"\n",
              "     width=\"24px\">\n",
              "    <g>\n",
              "        <path d=\"M19 3H5c-1.1 0-2 .9-2 2v14c0 1.1.9 2 2 2h14c1.1 0 2-.9 2-2V5c0-1.1-.9-2-2-2zM9 17H7v-7h2v7zm4 0h-2V7h2v10zm4 0h-2v-4h2v4z\"/>\n",
              "    </g>\n",
              "</svg>\n",
              "  </button>\n",
              "\n",
              "<style>\n",
              "  .colab-df-quickchart {\n",
              "      --bg-color: #E8F0FE;\n",
              "      --fill-color: #1967D2;\n",
              "      --hover-bg-color: #E2EBFA;\n",
              "      --hover-fill-color: #174EA6;\n",
              "      --disabled-fill-color: #AAA;\n",
              "      --disabled-bg-color: #DDD;\n",
              "  }\n",
              "\n",
              "  [theme=dark] .colab-df-quickchart {\n",
              "      --bg-color: #3B4455;\n",
              "      --fill-color: #D2E3FC;\n",
              "      --hover-bg-color: #434B5C;\n",
              "      --hover-fill-color: #FFFFFF;\n",
              "      --disabled-bg-color: #3B4455;\n",
              "      --disabled-fill-color: #666;\n",
              "  }\n",
              "\n",
              "  .colab-df-quickchart {\n",
              "    background-color: var(--bg-color);\n",
              "    border: none;\n",
              "    border-radius: 50%;\n",
              "    cursor: pointer;\n",
              "    display: none;\n",
              "    fill: var(--fill-color);\n",
              "    height: 32px;\n",
              "    padding: 0;\n",
              "    width: 32px;\n",
              "  }\n",
              "\n",
              "  .colab-df-quickchart:hover {\n",
              "    background-color: var(--hover-bg-color);\n",
              "    box-shadow: 0 1px 2px rgba(60, 64, 67, 0.3), 0 1px 3px 1px rgba(60, 64, 67, 0.15);\n",
              "    fill: var(--button-hover-fill-color);\n",
              "  }\n",
              "\n",
              "  .colab-df-quickchart-complete:disabled,\n",
              "  .colab-df-quickchart-complete:disabled:hover {\n",
              "    background-color: var(--disabled-bg-color);\n",
              "    fill: var(--disabled-fill-color);\n",
              "    box-shadow: none;\n",
              "  }\n",
              "\n",
              "  .colab-df-spinner {\n",
              "    border: 2px solid var(--fill-color);\n",
              "    border-color: transparent;\n",
              "    border-bottom-color: var(--fill-color);\n",
              "    animation:\n",
              "      spin 1s steps(1) infinite;\n",
              "  }\n",
              "\n",
              "  @keyframes spin {\n",
              "    0% {\n",
              "      border-color: transparent;\n",
              "      border-bottom-color: var(--fill-color);\n",
              "      border-left-color: var(--fill-color);\n",
              "    }\n",
              "    20% {\n",
              "      border-color: transparent;\n",
              "      border-left-color: var(--fill-color);\n",
              "      border-top-color: var(--fill-color);\n",
              "    }\n",
              "    30% {\n",
              "      border-color: transparent;\n",
              "      border-left-color: var(--fill-color);\n",
              "      border-top-color: var(--fill-color);\n",
              "      border-right-color: var(--fill-color);\n",
              "    }\n",
              "    40% {\n",
              "      border-color: transparent;\n",
              "      border-right-color: var(--fill-color);\n",
              "      border-top-color: var(--fill-color);\n",
              "    }\n",
              "    60% {\n",
              "      border-color: transparent;\n",
              "      border-right-color: var(--fill-color);\n",
              "    }\n",
              "    80% {\n",
              "      border-color: transparent;\n",
              "      border-right-color: var(--fill-color);\n",
              "      border-bottom-color: var(--fill-color);\n",
              "    }\n",
              "    90% {\n",
              "      border-color: transparent;\n",
              "      border-bottom-color: var(--fill-color);\n",
              "    }\n",
              "  }\n",
              "</style>\n",
              "\n",
              "  <script>\n",
              "    async function quickchart(key) {\n",
              "      const quickchartButtonEl =\n",
              "        document.querySelector('#' + key + ' button');\n",
              "      quickchartButtonEl.disabled = true;  // To prevent multiple clicks.\n",
              "      quickchartButtonEl.classList.add('colab-df-spinner');\n",
              "      try {\n",
              "        const charts = await google.colab.kernel.invokeFunction(\n",
              "            'suggestCharts', [key], {});\n",
              "      } catch (error) {\n",
              "        console.error('Error during call to suggestCharts:', error);\n",
              "      }\n",
              "      quickchartButtonEl.classList.remove('colab-df-spinner');\n",
              "      quickchartButtonEl.classList.add('colab-df-quickchart-complete');\n",
              "    }\n",
              "    (() => {\n",
              "      let quickchartButtonEl =\n",
              "        document.querySelector('#df-cd1a287d-a8b6-4204-8840-3324ffe14963 button');\n",
              "      quickchartButtonEl.style.display =\n",
              "        google.colab.kernel.accessAllowed ? 'block' : 'none';\n",
              "    })();\n",
              "  </script>\n",
              "</div>\n",
              "\n",
              "    </div>\n",
              "  </div>\n"
            ],
            "application/vnd.google.colaboratory.intrinsic+json": {
              "type": "dataframe",
              "variable_name": "merged_df_inner",
              "summary": "{\n  \"name\": \"merged_df_inner\",\n  \"rows\": 79,\n  \"fields\": [\n    {\n      \"column\": \"date\",\n      \"properties\": {\n        \"dtype\": \"date\",\n        \"min\": \"2023-08-14 00:00:00\",\n        \"max\": \"2023-10-31 00:00:00\",\n        \"samples\": [\n          \"2023-09-13 00:00:00\",\n          \"2023-08-14 00:00:00\",\n          \"2023-09-05 00:00:00\"\n        ],\n        \"num_unique_values\": 79,\n        \"semantic_type\": \"\",\n        \"description\": \"\"\n      }\n    },\n    {\n      \"column\": \"Tesla_Model 3\",\n      \"properties\": {\n        \"dtype\": \"number\",\n        \"std\": 596.6679631317977,\n        \"min\": 38990.0,\n        \"max\": 40240.0,\n        \"samples\": [\n          38990.0,\n          40240.0\n        ],\n        \"num_unique_values\": 2,\n        \"semantic_type\": \"\",\n        \"description\": \"\"\n      }\n    },\n    {\n      \"column\": \"Tesla_Model 3 Long Range\",\n      \"properties\": {\n        \"dtype\": \"number\",\n        \"std\": 596.6679631317977,\n        \"min\": 45990.0,\n        \"max\": 47240.0,\n        \"samples\": [\n          45990.0,\n          47240.0\n        ],\n        \"num_unique_values\": 2,\n        \"semantic_type\": \"\",\n        \"description\": \"\"\n      }\n    },\n    {\n      \"column\": \"Tesla_Model 3 Performance\",\n      \"properties\": {\n        \"dtype\": \"number\",\n        \"std\": 1074.0023336372356,\n        \"min\": 50990.0,\n        \"max\": 53240.0,\n        \"samples\": [\n          50990.0,\n          53240.0\n        ],\n        \"num_unique_values\": 2,\n        \"semantic_type\": \"\",\n        \"description\": \"\"\n      }\n    },\n    {\n      \"column\": \"Tesla_Model S\",\n      \"properties\": {\n        \"dtype\": \"number\",\n        \"std\": 5583.329094545133,\n        \"min\": 74990.0,\n        \"max\": 88490.0,\n        \"samples\": [\n          74990.0,\n          88490.0\n        ],\n        \"num_unique_values\": 2,\n        \"semantic_type\": \"\",\n        \"description\": \"\"\n      }\n    },\n    {\n      \"column\": \"Tesla_Model S Plaid\",\n      \"properties\": {\n        \"dtype\": \"number\",\n        \"std\": 7651.228759191476,\n        \"min\": 89990.0,\n        \"max\": 108490.0,\n        \"samples\": [\n          89990.0,\n          108490.0\n        ],\n        \"num_unique_values\": 2,\n        \"semantic_type\": \"\",\n        \"description\": \"\"\n      }\n    },\n    {\n      \"column\": \"Tesla_Model X\",\n      \"properties\": {\n        \"dtype\": \"number\",\n        \"std\": 7651.228759191476,\n        \"min\": 79990.0,\n        \"max\": 98490.0,\n        \"samples\": [\n          79990.0,\n          98490.0\n        ],\n        \"num_unique_values\": 2,\n        \"semantic_type\": \"\",\n        \"description\": \"\"\n      }\n    },\n    {\n      \"column\": \"Tesla_Model X Plaid\",\n      \"properties\": {\n        \"dtype\": \"number\",\n        \"std\": 7442.263975878587,\n        \"min\": 89990.0,\n        \"max\": 108490.0,\n        \"samples\": [\n          108490.0,\n          89990.0\n        ],\n        \"num_unique_values\": 3,\n        \"semantic_type\": \"\",\n        \"description\": \"\"\n      }\n    },\n    {\n      \"column\": \"Tesla_Model Y\",\n      \"properties\": {\n        \"dtype\": \"number\",\n        \"std\": 1709.4872449658906,\n        \"min\": 43990.0,\n        \"max\": 47490.0,\n        \"samples\": [\n          43990.0,\n          47490.0\n        ],\n        \"num_unique_values\": 2,\n        \"semantic_type\": \"\",\n        \"description\": \"\"\n      }\n    },\n    {\n      \"column\": \"Tesla_Model Y Long Range\",\n      \"properties\": {\n        \"dtype\": \"number\",\n        \"std\": 909.888337521449,\n        \"min\": 48490.0,\n        \"max\": 50490.0,\n        \"samples\": [\n          50490.0,\n          48490.0\n        ],\n        \"num_unique_values\": 3,\n        \"semantic_type\": \"\",\n        \"description\": \"\"\n      }\n    },\n    {\n      \"column\": \"Tesla_Model Y Performance\",\n      \"properties\": {\n        \"dtype\": \"number\",\n        \"std\": 954.6687410108759,\n        \"min\": 52490.0,\n        \"max\": 54490.0,\n        \"samples\": [\n          52490.0,\n          54490.0\n        ],\n        \"num_unique_values\": 2,\n        \"semantic_type\": \"\",\n        \"description\": \"\"\n      }\n    },\n    {\n      \"column\": \"BYD Model_COE\",\n      \"properties\": {\n        \"dtype\": \"number\",\n        \"std\": 9241.57379134438,\n        \"min\": 206888.0,\n        \"max\": 231888.0,\n        \"samples\": [\n          206888.0,\n          211888.0\n        ],\n        \"num_unique_values\": 6,\n        \"semantic_type\": \"\",\n        \"description\": \"\"\n      }\n    },\n    {\n      \"column\": \"BYD Model_CAT_B\",\n      \"properties\": {\n        \"dtype\": \"number\",\n        \"std\": 8029.178245597619,\n        \"min\": 126889.0,\n        \"max\": 150001.0,\n        \"samples\": [\n          126889.0,\n          129890.0\n        ],\n        \"num_unique_values\": 6,\n        \"semantic_type\": \"\",\n        \"description\": \"\"\n      }\n    },\n    {\n      \"column\": \"constant\",\n      \"properties\": {\n        \"dtype\": \"number\",\n        \"std\": 0,\n        \"min\": 1,\n        \"max\": 1,\n        \"samples\": [\n          1\n        ],\n        \"num_unique_values\": 1,\n        \"semantic_type\": \"\",\n        \"description\": \"\"\n      }\n    }\n  ]\n}"
            }
          },
          "metadata": {},
          "execution_count": 90
        }
      ],
      "source": [
        "# Merge two datasets\n",
        "merged_df_inner = pd.merge(tesla_by_type, byd, left_on='date', right_on='Date', how='inner')\n",
        "\n",
        "# Drop the duplicate 'Date' column\n",
        "merged_df_inner = merged_df_inner.drop(columns=['Date'])\n",
        "merged_df_inner['constant'] = 1\n",
        "merged_df_inner.head()"
      ]
    },
    {
      "cell_type": "code",
      "execution_count": null,
      "metadata": {
        "colab": {
          "base_uri": "https://localhost:8080/"
        },
        "id": "lpmopbSrHILD",
        "outputId": "5c8e4b3f-61d8-4294-de7a-ffdd88e00116"
      },
      "outputs": [
        {
          "output_type": "stream",
          "name": "stdout",
          "text": [
            "Correlation between BYD Model_COE and Tesla_Model 3: -0.8399503575521972\n",
            "Correlation between BYD Model_COE and Tesla_Model 3 Long Range: -0.8399503575521972\n",
            "Correlation between BYD Model_COE and Tesla_Model 3 Performance: -0.8399503575521972\n",
            "Correlation between BYD Model_COE and Tesla_Model S: -0.5976572197045782\n",
            "Correlation between BYD Model_COE and Tesla_Model S Plaid: -0.5976572197045802\n",
            "Correlation between BYD Model_COE and Tesla_Model X: -0.5976572197045802\n",
            "Correlation between BYD Model_COE and Tesla_Model X Plaid: -0.44318291516558045\n",
            "Correlation between BYD Model_COE and Tesla_Model Y: -0.8423417029465534\n",
            "Correlation between BYD Model_COE and Tesla_Model Y Long Range: -0.8148794377904026\n",
            "Correlation between BYD Model_COE and Tesla_Model Y Performance: -0.839950357552197\n",
            "Correlation between BYD Model_CAT_B and Tesla_Model 3: -0.8305115310588831\n",
            "Correlation between BYD Model_CAT_B and Tesla_Model 3 Long Range: -0.8305115310588831\n",
            "Correlation between BYD Model_CAT_B and Tesla_Model 3 Performance: -0.830511531058883\n",
            "Correlation between BYD Model_CAT_B and Tesla_Model S: -0.6740443029110827\n",
            "Correlation between BYD Model_CAT_B and Tesla_Model S Plaid: -0.674044302911083\n",
            "Correlation between BYD Model_CAT_B and Tesla_Model X: -0.674044302911083\n",
            "Correlation between BYD Model_CAT_B and Tesla_Model X Plaid: -0.5353994935284536\n",
            "Correlation between BYD Model_CAT_B and Tesla_Model Y: -0.836117382722437\n",
            "Correlation between BYD Model_CAT_B and Tesla_Model Y Long Range: -0.8102818780004671\n",
            "Correlation between BYD Model_CAT_B and Tesla_Model Y Performance: -0.8305115310588833\n"
          ]
        }
      ],
      "source": [
        "byd_columns = merged_df_inner.filter(like='BYD').columns\n",
        "tesla_columns = merged_df_inner.filter(like='Tesla_').columns\n",
        "\n",
        "for byd_column in byd_columns:\n",
        "    for tesla_column in tesla_columns:\n",
        "        correlation = merged_df_inner[byd_column].corr(merged_df_inner[tesla_column])\n",
        "        print(f'Correlation between {byd_column} and {tesla_column}: {correlation}')"
      ]
    },
    {
      "cell_type": "markdown",
      "metadata": {
        "id": "D--GMdxu24Jx"
      },
      "source": [
        "Tous les résultats des corrélations selon les prix sont négatifs, ce qui laisse supposer à une substitution entre les produits."
      ]
    },
    {
      "cell_type": "markdown",
      "metadata": {
        "id": "Eeq14nGPrz8f"
      },
      "source": [
        "Générer la croissance pour la Tesla Model X et S ainsi que la BYD puis calculer la corrélation :"
      ]
    },
    {
      "cell_type": "code",
      "execution_count": null,
      "metadata": {
        "colab": {
          "base_uri": "https://localhost:8080/"
        },
        "id": "R3VFZKdWrzj-",
        "outputId": "1bd61a5c-3105-4356-e095-0ae1dc0cb0db"
      },
      "outputs": [
        {
          "output_type": "stream",
          "name": "stdout",
          "text": [
            "Correlation between Tesla Model X and BYD Model COE growth: 0.03\n",
            "Correlation between Tesla Model S and BYD Model COE growth: 0.03\n"
          ]
        }
      ],
      "source": [
        "merged_df_inner['tesla_model_x_growth'] = merged_df_inner['Tesla_Model X'].pct_change()\n",
        "merged_df_inner['tesla_model_s_growth'] = merged_df_inner['Tesla_Model S'].pct_change()\n",
        "merged_df_inner['BYD_growth'] = merged_df_inner['BYD Model_COE'].pct_change()\n",
        "\n",
        "\n",
        "correlation1 = merged_df_inner['tesla_model_x_growth'].corr(merged_df_inner['BYD_growth'])\n",
        "print(f\"Correlation between Tesla Model X and BYD Model COE growth: {correlation1:.2f}\")\n",
        "\n",
        "correlation2 = merged_df_inner['tesla_model_s_growth'].corr(merged_df_inner['BYD_growth'])\n",
        "print(f\"Correlation between Tesla Model S and BYD Model COE growth: {correlation2:.2f}\")\n"
      ]
    },
    {
      "cell_type": "markdown",
      "metadata": {
        "id": "0DfWe0rrw0mk"
      },
      "source": [
        "Nous obtenons cette fois-ci une corrélation positive et identique dans les deux cas, ce qui laisse penser à une complémentarité. Or il est important de noter que l'augmentation ou la baisse des prix va dans le même sens si chaque acteur s'adapte au prix de son concurrent."
      ]
    },
    {
      "cell_type": "markdown",
      "metadata": {
        "id": "bqpHN4DtEqlL"
      },
      "source": [
        "Une analyse a aussi été rélisée au travers de régressions."
      ]
    },
    {
      "cell_type": "code",
      "execution_count": null,
      "metadata": {
        "colab": {
          "base_uri": "https://localhost:8080/"
        },
        "id": "rRfviBt_FWRC",
        "outputId": "c364c407-264d-49da-8dd4-a6dca67a9d62"
      },
      "outputs": [
        {
          "output_type": "stream",
          "name": "stdout",
          "text": [
            "                            OLS Estimation Summary                            \n",
            "==============================================================================\n",
            "Dep. Variable:          BYD Model_COE   R-squared:                      0.3572\n",
            "Estimator:                        OLS   Adj. R-squared:                 0.3488\n",
            "No. Observations:                  79   F-statistic:                    160.10\n",
            "Date:                Fri, Feb 16 2024   P-value (F-stat)                0.0000\n",
            "Time:                        19:44:00   Distribution:                  chi2(1)\n",
            "Cov. Estimator:                robust                                         \n",
            "                                                                              \n",
            "                               Parameter Estimates                               \n",
            "=================================================================================\n",
            "               Parameter  Std. Err.     T-stat    P-value    Lower CI    Upper CI\n",
            "---------------------------------------------------------------------------------\n",
            "Tesla_Model X    -0.7219     0.0571    -12.653     0.0000     -0.8337     -0.6101\n",
            "constant        2.78e+05     5619.0     49.472     0.0000    2.67e+05    2.89e+05\n",
            "=================================================================================\n",
            "                            OLS Estimation Summary                            \n",
            "==============================================================================\n",
            "Dep. Variable:          BYD Model_COE   R-squared:                      0.3572\n",
            "Estimator:                        OLS   Adj. R-squared:                 0.3488\n",
            "No. Observations:                  79   F-statistic:                    160.10\n",
            "Date:                Fri, Feb 16 2024   P-value (F-stat)                0.0000\n",
            "Time:                        19:44:00   Distribution:                  chi2(1)\n",
            "Cov. Estimator:                robust                                         \n",
            "                                                                              \n",
            "                               Parameter Estimates                               \n",
            "=================================================================================\n",
            "               Parameter  Std. Err.     T-stat    P-value    Lower CI    Upper CI\n",
            "---------------------------------------------------------------------------------\n",
            "Tesla_Model S    -0.9892     0.0782    -12.653     0.0000     -1.1425     -0.8360\n",
            "constant       2.944e+05     6918.3     42.557     0.0000   2.809e+05    3.08e+05\n",
            "=================================================================================\n"
          ]
        }
      ],
      "source": [
        "BYD = 'BYD Model_COE'\n",
        "Model_X = 'Tesla_Model X'\n",
        "Model_S = 'Tesla_Model S'\n",
        "Constant = 'constant'\n",
        "\n",
        "reg1 = OLS(merged_df_inner[BYD], merged_df_inner[[Model_X, Constant]])\n",
        "print(reg1.fit())\n",
        "\n",
        "reg2 = OLS(merged_df_inner[BYD], merged_df_inner[[Model_S, Constant]])\n",
        "print(reg2.fit())"
      ]
    },
    {
      "cell_type": "markdown",
      "metadata": {
        "id": "c3pVUobzI630"
      },
      "source": [
        "Pour les modèles X et S de Tesla nous pouvons conclure en une relation négative avec le prix de BYD. En effet, lorsque prix monte de 1 dollar (descend de 1 dollar), le prix du modèle X descend de 0.72 dollar (monte de 0.72 dollar) et le modèle Y descend de 0.99 dollar (monte de 0.99 dollar), toute chose égal par ailleurs. On peut donc conclure qu'il y a substitution. Il est intéressant de noter que dans les deux cas les valeurs sont statistiquement significatif à un seuil de 1%."
      ]
    },
    {
      "cell_type": "markdown",
      "source": [
        "Pour aller plus loin, il serait possible d'expliquer la baisse des prix de BYD et de Tesla par une réduction des coûts par unité produite, ou encore par la conscience de l'existence de la substituabilité avec le concurrent, ce qui poussent les producteurs à être davantage compétitifs."
      ],
      "metadata": {
        "id": "LjVSdTtXP-Kd"
      }
    },
    {
      "cell_type": "markdown",
      "metadata": {
        "id": "RsPPu9bnTpjc"
      },
      "source": [
        "### 3. Cournot et Bertrand"
      ]
    },
    {
      "cell_type": "markdown",
      "metadata": {
        "id": "9GEJwIFLTeFL"
      },
      "source": [
        "$$ {q_1} = 5- 3p_1+p_2$$\n",
        "$$ {q_2} = 4- 2.5p_2+p_1$$\n",
        "\n",
        "Nous pouvons tout de suite calculer nos quantités, nos parts de marché et notre prix pondéré.\n",
        "$$q_1=5-3*1.67+2=1.99$$\n",
        "$$q_2=4-2.5*2+1.67=0.67$$\n",
        "$$s_1=\\frac{1.99}{1.99+0.67}=0.75$$\n",
        "$$s_2=\\frac{0.25}{1.99+0.67}=0.25$$\n",
        "Le prix mondial pondéré selon la quantité peut être calculé.\n",
        "$$p_m=s_1*1.67+s_2*2=0.75*1.67+0.25*2=1.75$$\n",
        "\n",
        "$$$$\n",
        "**(a) Commençons avec Bertrand :**\n",
        "$$ max_{p_1} \\pi_1=(p_1-c_{1,b})(5- 3p_1+p_2)=5p_1-3p_1^2+p_1p_2-5c_{1,b}+3p_1c_{1,b}-p_2c_{1,b} $$\n",
        "$$ max_{p_2} \\pi_2=(p_2-c_{2,b})(4- 2.5p_2+p_1)=4p_2-2.5p_2^2+p_1p_2-4c_{2,b}+2.5p_2c_{2,b}-p_1c_{2,b} $$\n",
        "\n",
        "$$$$\n",
        "\n",
        "**(b) CPOs :**\n",
        "$$5-6p_1+p_2+3c_{1,b}=0<=>c_{1,b}=\\frac{6p_1-5-p_2}{3}=1.01$$\n",
        "$$4-5p_2+p_1+2.5c_{2,b}=0<=>c_{2,b}=\\frac{5p_2-4-p_1}{2.5}=1.73$$\n",
        "Nous pouvons à présent trouver le coût marginal mondial pondéré par la quantité.\n",
        "$$c_{m,b}=s_1*1.01+s_2*1.73=0.75*1.01+0.25*1.73=1.19$ $$\n",
        "$$$$\n",
        "\n",
        "\n",
        "**(c) Continuons avec Cournot :**\n",
        "$$ {q_1} = 5- 3p_1+p_2 <=> p_2=q_1-5+3p_1$$\n",
        "$$ {q_2} = 4- 2.5p_2+p_1<=> p_1=q_2-4+2.5p_2$$\n",
        "\n",
        "En substituant une équation dans l'autre et réciproquement :\n",
        "$$p_2=q_1-5+3q_2-12+7.5p_2 <=> p_2=\\frac{17}{6.5}-\\frac{q_1}{6.5}-\\frac{3q_2}{6.5}$$\n",
        "$$p_1=q_2-4+2.5q_1-12.5+7.5p_1 <=> p_1=\\frac{16.5}{6.5}-\\frac{q_2}{6.5}-\\frac{2.5q_1}{6.5}$$\n",
        "\n",
        "Par conséquent,\n",
        "$$max_{q_1} \\pi_1=(\\frac{16.5}{6.5}-\\frac{q_2}{6.5}-\\frac{2.5q_1}{6.5}-c_{1,c})q_1=\\frac{16.5}{6.5}q_1-\\frac{q_1q_2}{6.5}-\\frac{2.5q_1^2}{6.5}-c_{1,c}q_1$$\n",
        "$$max_{q_2} \\pi_2=(\\frac{17}{6.5}-\\frac{q_1}{6.5}-\\frac{3q_2}{6.5}-c_{2,c})q_2=\\frac{17}{6.5}q_2-\\frac{q_1q_2}{6.5}-\\frac{3q_2^2}{6.5}-c_{2,c}q_2$$\n",
        "$$$$\n",
        "\n",
        "**(d) CPOs :**\n",
        "$$\\frac{16.5}{6.5}-\\frac{q_2}{6.5}-\\frac{5q_1}{6.5}-c_{1,c}=0<=>c_{1,c}=\\frac{16.5}{6.5}-\\frac{q_2}{6.5}-\\frac{5q_1}{6.5}=0.90$$\n",
        "$$\\frac{17}{6.5}-\\frac{q_1}{6.5}-\\frac{6q_2}{6.5}-c_{2,c}=0<=>c_{2,c}=\\frac{17}{6.5}-\\frac{q_1}{6.5}-\\frac{6q_2}{6.5}=1.69$$\n",
        "Nous pouvons à présent trouver le coût marginal mondial pondéré par la quantité.\n",
        "$$c_{m,c}=s_1*0.90+s_2*1.69=0.75*0.90+0.25*1.69=1.10$ $$\n",
        "\n",
        "$$$$\n",
        "**(e) Lerner.**\n",
        "\n",
        "Nous calculons l'indice de Lerner selon les résultats de Bertrand :\n",
        "$$L_{m,b}=\\frac{1.75-1.19}{1.75}=0.32$$\n",
        "Nous calculons enfin l'indice de Lerner selon les résultats de Cournot :\n",
        "$$L_{m,c}=\\frac{1.75-1.10}{1.75}=0.37$$\n",
        "L'indice de Lerner le plus bas est donc dans l'optimisation à la Bertrand.\n",
        "Une interprétation possible de ces résultats serait que le pouvoir de marché des firmes est supérieur dans la situation de Cournot en atteignant l'équilibre de Nash que dans la situation de Bertrand en atteignant l'équilibre de Nash.\n",
        "Théoriquement, cette solution s'explique par le fait que dans la théorie, deux produits homogènes dans la situation de Bertrand atteignent un équilibre de Nash ou P=MC, ce qui signifie que l'indice de Lerner devrait être nul."
      ]
    },
    {
      "cell_type": "markdown",
      "metadata": {
        "id": "rS0EzRuWLXpc"
      },
      "source": [
        "### 4. Effect of Common Ownership"
      ]
    },
    {
      "cell_type": "markdown",
      "metadata": {
        "id": "acZlyFlH_l3o"
      },
      "source": [
        "#### **(a) Simulation de la table 1**"
      ]
    },
    {
      "cell_type": "markdown",
      "metadata": {
        "id": "fiXeH1cfzfnc"
      },
      "source": [
        "Voici d'abord la partie analytique de la question, suivi du code pour résoudre le problème.\n",
        "Afin d'obtenir les résultats des $\\kappa$ nous nous sommes basés sur la formule suivante:\n",
        "$\\kappa_{fg} = \\frac{\\sum_{s} \\gamma_{sf} \\beta_{sg}}{\\sum_{s} \\gamma_{sf} \\beta_{sf}}$\n",
        "\n",
        "\n",
        "Avec \"f\" la firme en question, \"g\" les autres firmes qui ne sont pas \"f\" et \"s\" les investisseurs.\n",
        "Du tableau 1 du papier de recherche on obtient par exemple $\\gamma_{11}=\\beta_{11}=1$ ou encore $\\gamma_{42}=\\beta_{42}=0,20$.\n",
        "\n",
        "Nous pouvons donc calculs les $\\kappa$ en appliquant la formule mentionnée plus haut entre chaque firme.\n",
        "En appliquant notre code Python, nous obtenons la matrice des résultats suivants :\n",
        "$$\n",
        "\\begin{bmatrix}\n",
        "1 & 0 & 0 \\\\\n",
        "0 & 1 & 0.5 \\\\\n",
        "0 & 0.5 & 1\n",
        "\\end{bmatrix}\n",
        "$$\n",
        "Les éléments dans la matrice diagonale sont les $\\kappa$ de chaque firm sur elle-même ce qui en réalité ne veut pas dire grand chose ou mènerait à de la collusion parfaite ou encore une stratégie de prix en monopole.\n",
        "Les éléments \"0\" correspondent à la maximisation standart des propres bénéfices de l'entreprise."
      ]
    },
    {
      "cell_type": "code",
      "execution_count": null,
      "metadata": {
        "colab": {
          "base_uri": "https://localhost:8080/"
        },
        "id": "WN-CPLUeoTZw",
        "outputId": "5107f002-e4e8-4ebe-cd3a-4666a46ac8e7"
      },
      "outputs": [
        {
          "output_type": "stream",
          "name": "stdout",
          "text": [
            "Coefficients Matrix:\n",
            "[[1.         0.05       0.2       ]\n",
            " [0.05405405 1.         0.10810811]\n",
            " [0.15384615 0.07692308 1.        ]]\n"
          ]
        }
      ],
      "source": [
        "import numpy as np\n",
        "\n",
        "\n",
        "def calculate_coefficient(investor_holdings, self_firm, the_other_firm):\n",
        "    self_firm_index = self_firm - 1\n",
        "    the_other_firm_index = the_other_firm - 1\n",
        "\n",
        "    if not (0 <= self_firm_index < len(investor_holdings)):\n",
        "        raise ValueError(\"Invalid self firm index.\")\n",
        "\n",
        "    self_firm_percentage = sum(\n",
        "    investor_holdings[i][self_firm_index] ** 2\n",
        "    for i in range(len(investor_holdings))\n",
        "    )\n",
        "\n",
        "    other_firms_percentage = sum(\n",
        "    investor_holdings[i][self_firm_index] * investor_holdings[i][the_other_firm_index]\n",
        "    for i in range(len(investor_holdings))\n",
        "    )\n",
        "\n",
        "    if self_firm_percentage == 0:\n",
        "        raise ValueError(\"Investor holding of the self firm cannot be zero.\")\n",
        "\n",
        "    coefficient = other_firms_percentage / self_firm_percentage\n",
        "    return coefficient\n",
        "\n",
        "# Example usage:\n",
        "investor_percentages = [\n",
        "    [10, 5, 20],\n",
        "    [30, 0, 0],\n",
        "    [0, 30, 0],\n",
        "    [0, 0, 30],\n",
        "]\n",
        "\n",
        "coefficients_matrix = np.empty((3, 3))\n",
        "\n",
        "# Iterating through all combinations of self_firm and the_other_firm\n",
        "for self_firm in range(1, 4):\n",
        "    for the_other_firm in range(1, 4):\n",
        "        coefficient = calculate_coefficient(investor_percentages, self_firm, the_other_firm)\n",
        "        coefficients_matrix[self_firm - 1, the_other_firm - 1] = coefficient\n",
        "\n",
        "print(\"Coefficients Matrix:\")\n",
        "print(coefficients_matrix)"
      ]
    },
    {
      "cell_type": "code",
      "source": [
        "# Example usage:\n",
        "investor_percentages2 = [\n",
        "    [15, 20],\n",
        "    [30, 0],\n",
        "    [30, 0],\n",
        "    [0, 30],\n",
        "]\n",
        "coefficients_matrix = np.empty((2, 2))\n",
        "\n",
        "# Iterating through all combinations of self_firm and the_other_firm\n",
        "for self_firm in range(1, 3):\n",
        "    for the_other_firm in range(1, 3):\n",
        "        coefficient = calculate_coefficient(investor_percentages2, self_firm, the_other_firm)\n",
        "        coefficients_matrix[self_firm - 1, the_other_firm - 1] = coefficient\n",
        "\n",
        "print(\"Coefficients Matrix:\")\n",
        "print(coefficients_matrix)"
      ],
      "metadata": {
        "colab": {
          "base_uri": "https://localhost:8080/"
        },
        "id": "cleG2IZV3FAN",
        "outputId": "e497c025-ab5e-44b8-d549-6f305dda6503"
      },
      "execution_count": null,
      "outputs": [
        {
          "output_type": "stream",
          "name": "stdout",
          "text": [
            "Coefficients Matrix:\n",
            "[[1.         0.14814815]\n",
            " [0.23076923 1.        ]]\n"
          ]
        }
      ]
    },
    {
      "cell_type": "markdown",
      "metadata": {
        "id": "jLxABxXU_tfT"
      },
      "source": [
        "#### **(b) Simulation de la table 2**"
      ]
    },
    {
      "cell_type": "markdown",
      "metadata": {
        "id": "86bXnq8Gu2TD"
      },
      "source": [
        "Ici le principe appliquée est strictement le même que pour la première partie."
      ]
    },
    {
      "cell_type": "code",
      "execution_count": null,
      "metadata": {
        "colab": {
          "base_uri": "https://localhost:8080/"
        },
        "id": "A0qZVFzf_kGQ",
        "outputId": "dad70902-a3e5-46c7-ab30-2feb3c89b299"
      },
      "outputs": [
        {
          "output_type": "stream",
          "name": "stdout",
          "text": [
            "Coefficients Matrix:\n",
            "[[1.         3.        ]\n",
            " [0.33333333 1.        ]]\n"
          ]
        }
      ],
      "source": [
        "a = 3  # Replace 'a' with your desired preset number\n",
        "rows = 10  # Number of investors\n",
        "columns = 2  # Number of firms\n",
        "\n",
        "investor_percentages = [[1, a] for _ in range(rows)]\n",
        "\n",
        "self_firm = 2  # Index of the self firm (1-based index)\n",
        "the_other_firm = 1  # Index of the self firm (1-based index)\n",
        "\n",
        "coefficients_matrix = np.empty((2, 2))\n",
        "\n",
        "# Iterating through all combinations of self_firm and the_other_firm\n",
        "for self_firm in range(1, 3):\n",
        "    for the_other_firm in range(1, 3):\n",
        "        coefficient = calculate_coefficient(investor_percentages, self_firm, the_other_firm)\n",
        "        coefficients_matrix[self_firm - 1, the_other_firm - 1] = coefficient\n",
        "\n",
        "print(\"Coefficients Matrix:\")\n",
        "print(coefficients_matrix)\n"
      ]
    },
    {
      "cell_type": "markdown",
      "metadata": {
        "id": "0BecYS2fKzG9"
      },
      "source": [
        "#### **(c) Replication des graphiques**\n",
        "\n"
      ]
    },
    {
      "cell_type": "markdown",
      "metadata": {
        "id": "8R4fEncQR6Tg"
      },
      "source": [
        "Afin de reproduire ces graphiques il nous a fallu définir $p_1(\\alpha_1)$ et $p_2(\\alpha_1)$.\n",
        "On sait que:\n",
        "\n",
        "$p_1(\\alpha_1) = \\frac{{a_1 + \\beta_1 \\cdot p_2}}{{2\\alpha_1}} = \\frac{{a_1 + 0.5 \\cdot p_2}}{{2}}$\n",
        "\n",
        "$p_2(\\alpha_1) = \\frac{{a_2 + \\beta_2 \\cdot p_1}}{{2\\alpha_2}} = \\frac{{100 + 0.5 \\cdot p_1}}{{2}}$\n",
        "\n",
        "$p_1(\\alpha_1) = \\frac{{a_1 + 0.5 \\frac{{100 + 0.5 \\cdot p_1}}{{2}}}}{{2}}$\n",
        "\n",
        "$p_1(\\alpha_1) = \\frac{1}{1.875} (a_1 + 25)$\n",
        "\n",
        "De la même facon nous pouvons obtenir:\n",
        "\n",
        "$p_2(\\alpha_1) = \\frac{1}{1.875} (0,25a_1 + 25)$\n",
        "\n",
        "Pour tracer le second graphique, il nous a fallu $q_1(a_1, p_1, p_2)$ et $q_1(p_1, p_2)$; ces fonctions sont définies dans le papier de recherche.\n",
        "\n",
        "Enfin MHHID est défini comme:\n",
        "MHHID = $2*0,5*s_1(a_1)*s_2(a_1)$\n",
        "\n",
        "MHHID = $(\\frac{q_1}{q_1+q_2})(\\frac{q_2}{q_1+q_2})$\n",
        "\n"
      ]
    },
    {
      "cell_type": "code",
      "execution_count": null,
      "metadata": {
        "colab": {
          "base_uri": "https://localhost:8080/",
          "height": 489
        },
        "id": "K2KUg8sI_qlw",
        "outputId": "f1ccb0b9-76c3-4813-caa4-3512e95abbae"
      },
      "outputs": [
        {
          "output_type": "execute_result",
          "data": {
            "text/plain": [
              "<matplotlib.legend.Legend at 0x7fb9ee3cdc30>"
            ]
          },
          "metadata": {},
          "execution_count": 96
        },
        {
          "output_type": "display_data",
          "data": {
            "text/plain": [
              "<Figure size 640x480 with 1 Axes>"
            ],
            "image/png": "[encoded data removed]"
          },
          "metadata": {}
        }
      ],
      "source": [
        "import matplotlib.pyplot as plt\n",
        "\n",
        "def fonction_p1(a1):\n",
        "  return 1/1.875*(a1+25)\n",
        "\n",
        "def fonction_p2(a1):\n",
        "  return 1/1.875*(a1*0.25+100)\n",
        "\n",
        "valeurs_a1 = [i for i in range(80, 120)]\n",
        "\n",
        "resultats_p1 = []\n",
        "resultats_p2 = []\n",
        "\n",
        "for valeur in valeurs_a1:\n",
        "    resultat = fonction_p1(valeur)\n",
        "    resultats_p1.append(resultat)\n",
        "\n",
        "for valeur in valeurs_a1:\n",
        "    resultat = fonction_p2(valeur)\n",
        "    resultats_p2.append(resultat)\n",
        "\n",
        "# Tracer le graphique\n",
        "plt.plot(valeurs_a1, resultats_p1, label='produit 1')\n",
        "plt.plot(valeurs_a1, resultats_p2, label='produit 2')\n",
        "\n",
        "# Ajouter des étiquettes\n",
        "plt.title('Prices as demand for Product 1 Grows')\n",
        "plt.xlabel('Demand parameter')\n",
        "plt.ylabel('Price')\n",
        "plt.legend()"
      ]
    },
    {
      "cell_type": "code",
      "execution_count": null,
      "metadata": {
        "colab": {
          "base_uri": "https://localhost:8080/",
          "height": 489
        },
        "id": "5RUs3LBwK6l1",
        "outputId": "63db3958-3ae3-4812-de3f-68ba9ef7e44f"
      },
      "outputs": [
        {
          "output_type": "execute_result",
          "data": {
            "text/plain": [
              "Text(0, 0.5, 'MHHID')"
            ]
          },
          "metadata": {},
          "execution_count": 97
        },
        {
          "output_type": "display_data",
          "data": {
            "text/plain": [
              "<Figure size 640x480 with 1 Axes>"
            ],
            "image/png": "[encoded data removed]"
          },
          "metadata": {}
        }
      ],
      "source": [
        "def fonction_q1(a1, p1, p2):\n",
        "  return a1-p1+0.5*p2\n",
        "\n",
        "def fonction_q2(p1, p2):\n",
        "  return 100-p2+0.5*p1\n",
        "\n",
        "resultats_q1 = []\n",
        "resultats_q2 = []\n",
        "\n",
        "for a1, p1, p2 in zip(valeurs_a1, resultats_p1, resultats_p2):\n",
        "  resultat = fonction_q1(a1, p1, p2)\n",
        "  resultats_q1.append(resultat)\n",
        "\n",
        "for p1, p2 in zip(resultats_p1, resultats_p2):\n",
        "  resultat = fonction_q2(p1, p2)\n",
        "  resultats_q2.append(resultat)\n",
        "\n",
        "MHHID = []\n",
        "def fonction_MHHID(q1, q2):\n",
        "  return (q1/(q1+q2))*(q2/(q1+q2))\n",
        "\n",
        "for q1, q2 in zip(resultats_q1, resultats_q2):\n",
        "  resultat = fonction_MHHID(q1, q2)\n",
        "  MHHID.append(resultat)\n",
        "\n",
        "plt.plot(valeurs_a1, MHHID)\n",
        "\n",
        "# Ajouter des étiquettes\n",
        "plt.title('MHHID as Demand for product 1 Grows')\n",
        "plt.xlabel('Demand Parameter')\n",
        "plt.ylabel('MHHID')"
      ]
    },
    {
      "cell_type": "markdown",
      "metadata": {
        "id": "PmthMSsoPEs7"
      },
      "source": [
        "####**Question d)**\n",
        "\n",
        "Les histogrammes jaunes et verts représentent des données de panel. Une utilisation de chacune d'elle entraîne des résultats sur le prix optimal et sur le MHHID.\n",
        "\n",
        "Si les données sont représentées par l'histogramme en vert, l'on observe que le MHHID augmente avec l'augmentation des prix des firmes 1 et 2 (corrélation positive) dont un investisseur détient 20% de chacune. Une augmentation du MHHID, toute chose égale par ailleurs, signifie une plus grand concentration du marché. Ainsi, les profits augmentent résultant en des dividendes plus élevées pour l'investisseur.\n",
        "\n",
        "Cependant avec les données représentées par l'histogramme en jaune, une augmentation des prix des firmes 1 et 2 fait diminuer le MHHID. On observe donc moins de concentration de marché. Ceci pourrait signifier moins de profits et donc moins de dividendes reversées à l'investisseur.\n",
        "\n",
        "Considérant que le MHHID est composé de kappa et de s, il serait possible de supposer que lorsque la collusion augmente, le prix des produits augmente tandis que la quantité vendue diminue pour maximiser les profits. Lorsque la diminution de la part de marché change moins vite que l'augmentation de kappa, le MHHID augmente. Il est donc possible de considérer que l'évolution progressive de la collusion permet un déplacement de la droite de la courbe vers le point optimal du MHHID. Lorsque la diminution de la part de marché change plus vite que l'augmentation de kappa, le MHHID diminue. Il est donc possible de considérer que l'évolution progressive de la collusion permet un déplacement du point optimal du MHHID vers la gauche de la courbe.\n",
        "\n",
        "Ainsi, un investisseur commun maximiserait ses dividendes à l'intersection des courbes de demandes des firmes 1 et 2, soit lorsque le MHHID atteint son maximum."
      ]
    },
    {
      "cell_type": "markdown",
      "metadata": {
        "id": "vT6SRXQunhsU"
      },
      "source": [
        "### 5. Cournot Game\n"
      ]
    },
    {
      "cell_type": "code",
      "execution_count": null,
      "metadata": {
        "colab": {
          "base_uri": "https://localhost:8080/"
        },
        "id": "-tmXCn3HqU5l",
        "outputId": "9a8a337a-19d5-4a6d-9ef7-8212f2a6fa8f"
      },
      "outputs": [
        {
          "output_type": "stream",
          "name": "stderr",
          "text": [
            "<ipython-input-98-449a65a6ecd9>:36: DeprecationWarning: scipy.array is deprecated and will be removed in SciPy 2.0.0, use numpy.array instead\n",
            "  return array(q) - array([reaction(q[1], k, A, c1), reaction(q[0], k, A, c2)])\n"
          ]
        },
        {
          "output_type": "stream",
          "name": "stdout",
          "text": [
            "Each firm quantities [0.27499486 0.27499486]\n",
            "Total quantities 0.5499897230390618\n",
            "Total profits 0.30249999989438403\n",
            "Each firm profits [0.15124999994719612, 0.1512499999471879]\n"
          ]
        }
      ],
      "source": [
        "# SIMULATE COURNOT GAME\n",
        "\n",
        "from scipy import optimize, array\n",
        "import numpy as np\n",
        "import matplotlib.pyplot as plt\n",
        "\n",
        "%matplotlib inline\n",
        "\n",
        "\n",
        "# P = A - q1 - q2\n",
        "def price(q1, q2, A):\n",
        "    return A - q1 - q2\n",
        "\n",
        "# CONSTANT MARGINAL COST\n",
        "def cost(q, c):\n",
        "    if q <= 0:\n",
        "        cost = 0\n",
        "    else:\n",
        "        cost = c * q\n",
        "    return cost\n",
        "\n",
        "\n",
        "# PROFITS\n",
        "def tprofit(q1, q2, k, A, c):\n",
        "    return price(q1, q2, A) * q1 - cost(q1, c) + k*(price(q1, q2, A) * q2 - cost(q2, c))\n",
        "\n",
        "# FIND OPTIMAL QUANTITY\n",
        "def reaction(q2, k, A, c):\n",
        "    q1 = optimize.brute(lambda q: -tprofit(q, q2, k, A, c), [[0, 1]]) # brute minimizes the function;\n",
        "                                                               # when we minimize -profits, we maximize profits\n",
        "    return q1[0]\n",
        "\n",
        "# STACK THE TWO REACTION FUNCTIONS IN THE FORM q1 = q1(q2) AND q2 = q2(q1)\n",
        "#np.array permet de créer un vecteur.\n",
        "def vector_reaction(q, k, A, c1, c2): # vector param = (A, c1, c2)\n",
        "    return array(q) - array([reaction(q[1], k, A, c1), reaction(q[0], k, A, c2)])\n",
        "\n",
        "# COURNOT EQUILIBRIUM\n",
        "\n",
        "A = 1.2\n",
        "c1 = c2 = c = 0.1\n",
        "k=1\n",
        "\n",
        "# INITIAL GUESS\n",
        "q0 = [0.2, 0.2]\n",
        "\n",
        "q_eqm = optimize.fsolve(vector_reaction, q0, args = (k, A, c1, c2))\n",
        "q_total = 0.0\n",
        "for element in q_eqm:\n",
        "     q_total += element\n",
        "\n",
        "profits_total = tprofit(q_eqm[0], q_eqm[1], k, A, c)\n",
        "\n",
        "def profit1(q1, q2,A, c1):\n",
        "    return price(q1, q2, A) * q1 - cost(q1, c1)\n",
        "\n",
        "def profit2(q1, q2, A, c2):\n",
        "    return price(q1, q2, A) * q2 - cost(q2, c2)\n",
        "\n",
        "profits_eqm = [profit1(q_eqm[0], q_eqm[1], A, c1), profit2(q_eqm[0], q_eqm[1], A, c2)]\n",
        "\n",
        "print(\"Each firm quantities\", q_eqm)\n",
        "print(\"Total quantities\", q_total)\n",
        "print(\"Total profits\", profits_total)\n",
        "print(\"Each firm profits\", profits_eqm)"
      ]
    },
    {
      "cell_type": "code",
      "execution_count": null,
      "metadata": {
        "colab": {
          "base_uri": "https://localhost:8080/",
          "height": 447
        },
        "id": "dmZmViAkNmdk",
        "outputId": "4086a9cf-d32d-432c-f868-fea0c38ef1c7"
      },
      "outputs": [
        {
          "output_type": "execute_result",
          "data": {
            "text/plain": [
              "[<matplotlib.lines.Line2D at 0x7fb9ec3c0850>]"
            ]
          },
          "metadata": {},
          "execution_count": 99
        },
        {
          "output_type": "display_data",
          "data": {
            "text/plain": [
              "<Figure size 640x480 with 1 Axes>"
            ],
            "image/png": "[encoded data removed]"
          },
          "metadata": {}
        }
      ],
      "source": [
        "range_k = np.arange(0, 1, 0.01)  # ARANGE(INITIAL, FINAL, STEP)\n",
        "range_R = [tprofit(q_eqm[0], q_eqm[1], k, A, c) for k in range_k]\n",
        "\n",
        "plt.plot(range_k, range_R,)"
      ]
    },
    {
      "cell_type": "markdown",
      "metadata": {
        "id": "s1-IFtW1V7V8"
      },
      "source": [
        "**Interprétation**\n",
        "$$$$\n",
        "Ainsi plus le kappa est élevé, plus la valeur de profit cumulé des deux firmes est élevé (pente positive). Avec kappa = 1, nous obtenons les résultats pour le cas de la collusion parfaite (monopoleur). En effet, le paramètre kappa représente le degré de collusion entre les deux entreprises. Avec kappa = 1, elles agissent comme un seul acteur sur le marché, fixant les prix et la production de manière à maximiser le profit global plutôt que de se concurrencer pour les parts de marché.\n",
        "$$$$\n",
        "Avec le graphique, nous pouvons observer l'évolution des profits totaux en fonction de leur degré de collusion. La valeur avec kappa = 0 représentant leurs profits conjoints en l'absence de collusion. Dans notre cas, une collusion parfaite par rapport à l'absence totale de collusion permet de quasiment doubler le profit conjoint."
      ]
    },
    {
      "cell_type": "markdown",
      "metadata": {
        "id": "IcSQ9sFIrIbY"
      },
      "source": [
        "### 6. Coffee regressions"
      ]
    },
    {
      "cell_type": "code",
      "execution_count": null,
      "metadata": {
        "colab": {
          "base_uri": "https://localhost:8080/",
          "height": 313
        },
        "id": "ZmF-P3CKrf2X",
        "outputId": "9b2d0ca0-61e3-4fcc-e0a8-ac1550c634a6"
      },
      "outputs": [
        {
          "output_type": "execute_result",
          "data": {
            "text/plain": [
              "        date  calendar_year  calendar_month  coffee_p_real  tea_p_real  \\\n",
              "0 1960-01-01           1960               1         257.59      984.42   \n",
              "1 1960-02-01           1960               2         262.63      953.07   \n",
              "2 1960-03-01           1960               3         259.81      903.35   \n",
              "3 1960-04-01           1960               4         258.65      875.48   \n",
              "4 1960-05-01           1960               5         265.40      889.46   \n",
              "\n",
              "   q_world_jandec  q_cartel_jandec  q_viet_jandec  log_richgdp_jandec  \\\n",
              "0        3.558833           3.5555       0.003333           -0.711407   \n",
              "1        3.558833           3.5555       0.003333           -0.711407   \n",
              "2        3.558833           3.5555       0.003333           -0.711407   \n",
              "3        3.558833           3.5555       0.003333           -0.711407   \n",
              "4        3.558833           3.5555       0.003333           -0.711407   \n",
              "\n",
              "   farm_p_real_jandec  frost01  frost02  frost03  constant  \n",
              "0                 NaN        0        0        0         1  \n",
              "1                 NaN        0        0        0         1  \n",
              "2                 NaN        0        0        0         1  \n",
              "3                 NaN        0        0        0         1  \n",
              "4                 NaN        0        0        0         1  "
            ],
            "text/html": [
              "\n",
              "  <div id=\"df-a7fa5968-0d1d-484d-8d28-6f615dd68c8f\" class=\"colab-df-container\">\n",
              "    <div>\n",
              "<style scoped>\n",
              "    .dataframe tbody tr th:only-of-type {\n",
              "        vertical-align: middle;\n",
              "    }\n",
              "\n",
              "    .dataframe tbody tr th {\n",
              "        vertical-align: top;\n",
              "    }\n",
              "\n",
              "    .dataframe thead th {\n",
              "        text-align: right;\n",
              "    }\n",
              "</style>\n",
              "<table border=\"1\" class=\"dataframe\">\n",
              "  <thead>\n",
              "    <tr style=\"text-align: right;\">\n",
              "      <th></th>\n",
              "      <th>date</th>\n",
              "      <th>calendar_year</th>\n",
              "      <th>calendar_month</th>\n",
              "      <th>coffee_p_real</th>\n",
              "      <th>tea_p_real</th>\n",
              "      <th>q_world_jandec</th>\n",
              "      <th>q_cartel_jandec</th>\n",
              "      <th>q_viet_jandec</th>\n",
              "      <th>log_richgdp_jandec</th>\n",
              "      <th>farm_p_real_jandec</th>\n",
              "      <th>frost01</th>\n",
              "      <th>frost02</th>\n",
              "      <th>frost03</th>\n",
              "      <th>constant</th>\n",
              "    </tr>\n",
              "  </thead>\n",
              "  <tbody>\n",
              "    <tr>\n",
              "      <th>0</th>\n",
              "      <td>1960-01-01</td>\n",
              "      <td>1960</td>\n",
              "      <td>1</td>\n",
              "      <td>257.59</td>\n",
              "      <td>984.42</td>\n",
              "      <td>3.558833</td>\n",
              "      <td>3.5555</td>\n",
              "      <td>0.003333</td>\n",
              "      <td>-0.711407</td>\n",
              "      <td>NaN</td>\n",
              "      <td>0</td>\n",
              "      <td>0</td>\n",
              "      <td>0</td>\n",
              "      <td>1</td>\n",
              "    </tr>\n",
              "    <tr>\n",
              "      <th>1</th>\n",
              "      <td>1960-02-01</td>\n",
              "      <td>1960</td>\n",
              "      <td>2</td>\n",
              "      <td>262.63</td>\n",
              "      <td>953.07</td>\n",
              "      <td>3.558833</td>\n",
              "      <td>3.5555</td>\n",
              "      <td>0.003333</td>\n",
              "      <td>-0.711407</td>\n",
              "      <td>NaN</td>\n",
              "      <td>0</td>\n",
              "      <td>0</td>\n",
              "      <td>0</td>\n",
              "      <td>1</td>\n",
              "    </tr>\n",
              "    <tr>\n",
              "      <th>2</th>\n",
              "      <td>1960-03-01</td>\n",
              "      <td>1960</td>\n",
              "      <td>3</td>\n",
              "      <td>259.81</td>\n",
              "      <td>903.35</td>\n",
              "      <td>3.558833</td>\n",
              "      <td>3.5555</td>\n",
              "      <td>0.003333</td>\n",
              "      <td>-0.711407</td>\n",
              "      <td>NaN</td>\n",
              "      <td>0</td>\n",
              "      <td>0</td>\n",
              "      <td>0</td>\n",
              "      <td>1</td>\n",
              "    </tr>\n",
              "    <tr>\n",
              "      <th>3</th>\n",
              "      <td>1960-04-01</td>\n",
              "      <td>1960</td>\n",
              "      <td>4</td>\n",
              "      <td>258.65</td>\n",
              "      <td>875.48</td>\n",
              "      <td>3.558833</td>\n",
              "      <td>3.5555</td>\n",
              "      <td>0.003333</td>\n",
              "      <td>-0.711407</td>\n",
              "      <td>NaN</td>\n",
              "      <td>0</td>\n",
              "      <td>0</td>\n",
              "      <td>0</td>\n",
              "      <td>1</td>\n",
              "    </tr>\n",
              "    <tr>\n",
              "      <th>4</th>\n",
              "      <td>1960-05-01</td>\n",
              "      <td>1960</td>\n",
              "      <td>5</td>\n",
              "      <td>265.40</td>\n",
              "      <td>889.46</td>\n",
              "      <td>3.558833</td>\n",
              "      <td>3.5555</td>\n",
              "      <td>0.003333</td>\n",
              "      <td>-0.711407</td>\n",
              "      <td>NaN</td>\n",
              "      <td>0</td>\n",
              "      <td>0</td>\n",
              "      <td>0</td>\n",
              "      <td>1</td>\n",
              "    </tr>\n",
              "  </tbody>\n",
              "</table>\n",
              "</div>\n",
              "    <div class=\"colab-df-buttons\">\n",
              "\n",
              "  <div class=\"colab-df-container\">\n",
              "    <button class=\"colab-df-convert\" onclick=\"convertToInteractive('df-a7fa5968-0d1d-484d-8d28-6f615dd68c8f')\"\n",
              "            title=\"Convert this dataframe to an interactive table.\"\n",
              "            style=\"display:none;\">\n",
              "\n",
              "  <svg xmlns=\"http://www.w3.org/2000/svg\" height=\"24px\" viewBox=\"0 -960 960 960\">\n",
              "    <path d=\"M120-120v-720h720v720H120Zm60-500h600v-160H180v160Zm220 220h160v-160H400v160Zm0 220h160v-160H400v160ZM180-400h160v-160H180v160Zm440 0h160v-160H620v160ZM180-180h160v-160H180v160Zm440 0h160v-160H620v160Z\"/>\n",
              "  </svg>\n",
              "    </button>\n",
              "\n",
              "  <style>\n",
              "    .colab-df-container {\n",
              "      display:flex;\n",
              "      gap: 12px;\n",
              "    }\n",
              "\n",
              "    .colab-df-convert {\n",
              "      background-color: #E8F0FE;\n",
              "      border: none;\n",
              "      border-radius: 50%;\n",
              "      cursor: pointer;\n",
              "      display: none;\n",
              "      fill: #1967D2;\n",
              "      height: 32px;\n",
              "      padding: 0 0 0 0;\n",
              "      width: 32px;\n",
              "    }\n",
              "\n",
              "    .colab-df-convert:hover {\n",
              "      background-color: #E2EBFA;\n",
              "      box-shadow: 0px 1px 2px rgba(60, 64, 67, 0.3), 0px 1px 3px 1px rgba(60, 64, 67, 0.15);\n",
              "      fill: #174EA6;\n",
              "    }\n",
              "\n",
              "    .colab-df-buttons div {\n",
              "      margin-bottom: 4px;\n",
              "    }\n",
              "\n",
              "    [theme=dark] .colab-df-convert {\n",
              "      background-color: #3B4455;\n",
              "      fill: #D2E3FC;\n",
              "    }\n",
              "\n",
              "    [theme=dark] .colab-df-convert:hover {\n",
              "      background-color: #434B5C;\n",
              "      box-shadow: 0px 1px 3px 1px rgba(0, 0, 0, 0.15);\n",
              "      filter: drop-shadow(0px 1px 2px rgba(0, 0, 0, 0.3));\n",
              "      fill: #FFFFFF;\n",
              "    }\n",
              "  </style>\n",
              "\n",
              "    <script>\n",
              "      const buttonEl =\n",
              "        document.querySelector('#df-a7fa5968-0d1d-484d-8d28-6f615dd68c8f button.colab-df-convert');\n",
              "      buttonEl.style.display =\n",
              "        google.colab.kernel.accessAllowed ? 'block' : 'none';\n",
              "\n",
              "      async function convertToInteractive(key) {\n",
              "        const element = document.querySelector('#df-a7fa5968-0d1d-484d-8d28-6f615dd68c8f');\n",
              "        const dataTable =\n",
              "          await google.colab.kernel.invokeFunction('convertToInteractive',\n",
              "                                                    [key], {});\n",
              "        if (!dataTable) return;\n",
              "\n",
              "        const docLinkHtml = 'Like what you see? Visit the ' +\n",
              "          '<a target=\"_blank\" href=https://colab.research.google.com/notebooks/data_table.ipynb>data table notebook</a>'\n",
              "          + ' to learn more about interactive tables.';\n",
              "        element.innerHTML = '';\n",
              "        dataTable['output_type'] = 'display_data';\n",
              "        await google.colab.output.renderOutput(dataTable, element);\n",
              "        const docLink = document.createElement('div');\n",
              "        docLink.innerHTML = docLinkHtml;\n",
              "        element.appendChild(docLink);\n",
              "      }\n",
              "    </script>\n",
              "  </div>\n",
              "\n",
              "\n",
              "<div id=\"df-08459ecc-4ca6-459e-aa94-80be41a01cab\">\n",
              "  <button class=\"colab-df-quickchart\" onclick=\"quickchart('df-08459ecc-4ca6-459e-aa94-80be41a01cab')\"\n",
              "            title=\"Suggest charts\"\n",
              "            style=\"display:none;\">\n",
              "\n",
              "<svg xmlns=\"http://www.w3.org/2000/svg\" height=\"24px\"viewBox=\"0 0 24 24\"\n",
              "     width=\"24px\">\n",
              "    <g>\n",
              "        <path d=\"M19 3H5c-1.1 0-2 .9-2 2v14c0 1.1.9 2 2 2h14c1.1 0 2-.9 2-2V5c0-1.1-.9-2-2-2zM9 17H7v-7h2v7zm4 0h-2V7h2v10zm4 0h-2v-4h2v4z\"/>\n",
              "    </g>\n",
              "</svg>\n",
              "  </button>\n",
              "\n",
              "<style>\n",
              "  .colab-df-quickchart {\n",
              "      --bg-color: #E8F0FE;\n",
              "      --fill-color: #1967D2;\n",
              "      --hover-bg-color: #E2EBFA;\n",
              "      --hover-fill-color: #174EA6;\n",
              "      --disabled-fill-color: #AAA;\n",
              "      --disabled-bg-color: #DDD;\n",
              "  }\n",
              "\n",
              "  [theme=dark] .colab-df-quickchart {\n",
              "      --bg-color: #3B4455;\n",
              "      --fill-color: #D2E3FC;\n",
              "      --hover-bg-color: #434B5C;\n",
              "      --hover-fill-color: #FFFFFF;\n",
              "      --disabled-bg-color: #3B4455;\n",
              "      --disabled-fill-color: #666;\n",
              "  }\n",
              "\n",
              "  .colab-df-quickchart {\n",
              "    background-color: var(--bg-color);\n",
              "    border: none;\n",
              "    border-radius: 50%;\n",
              "    cursor: pointer;\n",
              "    display: none;\n",
              "    fill: var(--fill-color);\n",
              "    height: 32px;\n",
              "    padding: 0;\n",
              "    width: 32px;\n",
              "  }\n",
              "\n",
              "  .colab-df-quickchart:hover {\n",
              "    background-color: var(--hover-bg-color);\n",
              "    box-shadow: 0 1px 2px rgba(60, 64, 67, 0.3), 0 1px 3px 1px rgba(60, 64, 67, 0.15);\n",
              "    fill: var(--button-hover-fill-color);\n",
              "  }\n",
              "\n",
              "  .colab-df-quickchart-complete:disabled,\n",
              "  .colab-df-quickchart-complete:disabled:hover {\n",
              "    background-color: var(--disabled-bg-color);\n",
              "    fill: var(--disabled-fill-color);\n",
              "    box-shadow: none;\n",
              "  }\n",
              "\n",
              "  .colab-df-spinner {\n",
              "    border: 2px solid var(--fill-color);\n",
              "    border-color: transparent;\n",
              "    border-bottom-color: var(--fill-color);\n",
              "    animation:\n",
              "      spin 1s steps(1) infinite;\n",
              "  }\n",
              "\n",
              "  @keyframes spin {\n",
              "    0% {\n",
              "      border-color: transparent;\n",
              "      border-bottom-color: var(--fill-color);\n",
              "      border-left-color: var(--fill-color);\n",
              "    }\n",
              "    20% {\n",
              "      border-color: transparent;\n",
              "      border-left-color: var(--fill-color);\n",
              "      border-top-color: var(--fill-color);\n",
              "    }\n",
              "    30% {\n",
              "      border-color: transparent;\n",
              "      border-left-color: var(--fill-color);\n",
              "      border-top-color: var(--fill-color);\n",
              "      border-right-color: var(--fill-color);\n",
              "    }\n",
              "    40% {\n",
              "      border-color: transparent;\n",
              "      border-right-color: var(--fill-color);\n",
              "      border-top-color: var(--fill-color);\n",
              "    }\n",
              "    60% {\n",
              "      border-color: transparent;\n",
              "      border-right-color: var(--fill-color);\n",
              "    }\n",
              "    80% {\n",
              "      border-color: transparent;\n",
              "      border-right-color: var(--fill-color);\n",
              "      border-bottom-color: var(--fill-color);\n",
              "    }\n",
              "    90% {\n",
              "      border-color: transparent;\n",
              "      border-bottom-color: var(--fill-color);\n",
              "    }\n",
              "  }\n",
              "</style>\n",
              "\n",
              "  <script>\n",
              "    async function quickchart(key) {\n",
              "      const quickchartButtonEl =\n",
              "        document.querySelector('#' + key + ' button');\n",
              "      quickchartButtonEl.disabled = true;  // To prevent multiple clicks.\n",
              "      quickchartButtonEl.classList.add('colab-df-spinner');\n",
              "      try {\n",
              "        const charts = await google.colab.kernel.invokeFunction(\n",
              "            'suggestCharts', [key], {});\n",
              "      } catch (error) {\n",
              "        console.error('Error during call to suggestCharts:', error);\n",
              "      }\n",
              "      quickchartButtonEl.classList.remove('colab-df-spinner');\n",
              "      quickchartButtonEl.classList.add('colab-df-quickchart-complete');\n",
              "    }\n",
              "    (() => {\n",
              "      let quickchartButtonEl =\n",
              "        document.querySelector('#df-08459ecc-4ca6-459e-aa94-80be41a01cab button');\n",
              "      quickchartButtonEl.style.display =\n",
              "        google.colab.kernel.accessAllowed ? 'block' : 'none';\n",
              "    })();\n",
              "  </script>\n",
              "</div>\n",
              "\n",
              "    </div>\n",
              "  </div>\n"
            ],
            "application/vnd.google.colaboratory.intrinsic+json": {
              "type": "dataframe",
              "variable_name": "coffee",
              "summary": "{\n  \"name\": \"coffee\",\n  \"rows\": 576,\n  \"fields\": [\n    {\n      \"column\": \"date\",\n      \"properties\": {\n        \"dtype\": \"date\",\n        \"min\": \"1960-01-01 00:00:00\",\n        \"max\": \"2007-12-01 00:00:00\",\n        \"samples\": [\n          \"1979-07-01 00:00:00\",\n          \"1969-11-01 00:00:00\",\n          \"1988-11-01 00:00:00\"\n        ],\n        \"num_unique_values\": 576,\n        \"semantic_type\": \"\",\n        \"description\": \"\"\n      }\n    },\n    {\n      \"column\": \"calendar_year\",\n      \"properties\": {\n        \"dtype\": \"number\",\n        \"std\": 13,\n        \"min\": 1960,\n        \"max\": 2007,\n        \"samples\": [\n          1987,\n          2000,\n          1986\n        ],\n        \"num_unique_values\": 48,\n        \"semantic_type\": \"\",\n        \"description\": \"\"\n      }\n    },\n    {\n      \"column\": \"calendar_month\",\n      \"properties\": {\n        \"dtype\": \"number\",\n        \"std\": 3,\n        \"min\": 1,\n        \"max\": 12,\n        \"samples\": [\n          11,\n          10,\n          1\n        ],\n        \"num_unique_values\": 12,\n        \"semantic_type\": \"\",\n        \"description\": \"\"\n      }\n    },\n    {\n      \"column\": \"coffee_p_real\",\n      \"properties\": {\n        \"dtype\": \"number\",\n        \"std\": 147.95735242658353,\n        \"min\": 44.19,\n        \"max\": 1130.88,\n        \"samples\": [\n          91.96,\n          69.78,\n          548.34\n        ],\n        \"num_unique_values\": 567,\n        \"semantic_type\": \"\",\n        \"description\": \"\"\n      }\n    },\n    {\n      \"column\": \"tea_p_real\",\n      \"properties\": {\n        \"dtype\": \"number\",\n        \"std\": 246.45171662222904,\n        \"min\": 189.23,\n        \"max\": 1434.57,\n        \"samples\": [\n          208.13,\n          800.68,\n          557.01\n        ],\n        \"num_unique_values\": 573,\n        \"semantic_type\": \"\",\n        \"description\": \"\"\n      }\n    },\n    {\n      \"column\": \"q_world_jandec\",\n      \"properties\": {\n        \"dtype\": \"number\",\n        \"std\": 1.173448902649163,\n        \"min\": 3.472833,\n        \"max\": 7.859167,\n        \"samples\": [\n          5.403083,\n          7.071083,\n          5.3625\n        ],\n        \"num_unique_values\": 48,\n        \"semantic_type\": \"\",\n        \"description\": \"\"\n      }\n    },\n    {\n      \"column\": \"q_cartel_jandec\",\n      \"properties\": {\n        \"dtype\": \"number\",\n        \"std\": 0.8403308360472475,\n        \"min\": 3.470333,\n        \"max\": 6.591832999999999,\n        \"samples\": [\n          5.355833,\n          5.848833,\n          5.326417\n        ],\n        \"num_unique_values\": 48,\n        \"semantic_type\": \"\",\n        \"description\": \"\"\n      }\n    },\n    {\n      \"column\": \"q_viet_jandec\",\n      \"properties\": {\n        \"dtype\": \"number\",\n        \"std\": 0.45606380626101584,\n        \"min\": 0.001666667,\n        \"max\": 1.5583330000000002,\n        \"samples\": [\n          0.06666665999999999,\n          0.01308333,\n          0.001666667\n        ],\n        \"num_unique_values\": 37,\n        \"semantic_type\": \"\",\n        \"description\": \"\"\n      }\n    },\n    {\n      \"column\": \"log_richgdp_jandec\",\n      \"properties\": {\n        \"dtype\": \"number\",\n        \"std\": 0.43907329030176717,\n        \"min\": -0.7114066,\n        \"max\": 0.8416933,\n        \"samples\": [\n          0.3375933,\n          0.6968933,\n          0.3055933\n        ],\n        \"num_unique_values\": 48,\n        \"semantic_type\": \"\",\n        \"description\": \"\"\n      }\n    },\n    {\n      \"column\": \"farm_p_real_jandec\",\n      \"properties\": {\n        \"dtype\": \"number\",\n        \"std\": 60.06434130476386,\n        \"min\": 41.0984,\n        \"max\": 283.4281,\n        \"samples\": [\n          91.1079,\n          75.37242,\n          47.90908\n        ],\n        \"num_unique_values\": 30,\n        \"semantic_type\": \"\",\n        \"description\": \"\"\n      }\n    },\n    {\n      \"column\": \"frost01\",\n      \"properties\": {\n        \"dtype\": \"number\",\n        \"std\": 7,\n        \"min\": 0,\n        \"max\": 24,\n        \"samples\": [\n          8,\n          16,\n          0\n        ],\n        \"num_unique_values\": 25,\n        \"semantic_type\": \"\",\n        \"description\": \"\"\n      }\n    },\n    {\n      \"column\": \"frost02\",\n      \"properties\": {\n        \"dtype\": \"number\",\n        \"std\": 3,\n        \"min\": 0,\n        \"max\": 24,\n        \"samples\": [\n          8,\n          16,\n          0\n        ],\n        \"num_unique_values\": 25,\n        \"semantic_type\": \"\",\n        \"description\": \"\"\n      }\n    },\n    {\n      \"column\": \"frost03\",\n      \"properties\": {\n        \"dtype\": \"number\",\n        \"std\": 2,\n        \"min\": 0,\n        \"max\": 24,\n        \"samples\": [\n          8,\n          16,\n          0\n        ],\n        \"num_unique_values\": 25,\n        \"semantic_type\": \"\",\n        \"description\": \"\"\n      }\n    },\n    {\n      \"column\": \"constant\",\n      \"properties\": {\n        \"dtype\": \"number\",\n        \"std\": 0,\n        \"min\": 1,\n        \"max\": 1,\n        \"samples\": [\n          1\n        ],\n        \"num_unique_values\": 1,\n        \"semantic_type\": \"\",\n        \"description\": \"\"\n      }\n    }\n  ]\n}"
            }
          },
          "metadata": {},
          "execution_count": 100
        }
      ],
      "source": [
        "coffee = pd.read_csv('coffee_data.csv')\n",
        "\n",
        "coffee['q_world_jandec'] = coffee['q_world_jandec'] / 1000\n",
        "\n",
        "coffee['q_cartel_jandec'] = coffee['q_cartel_jandec'] / 1000\n",
        "\n",
        "coffee['q_viet_jandec'] = coffee['q_viet_jandec'] / 1000\n",
        "\n",
        "coffee['constant'] = 1\n",
        "coffee['date'] = pd.to_datetime(coffee['calendar_year'].astype(str) + '-' + coffee['calendar_month'].astype(str) + '-01', format='%Y-%m-%d')\n",
        "last_column = coffee.pop(coffee.columns[-1])  # Remove the last column and store it\n",
        "coffee.insert(0, last_column.name, last_column)\n",
        "\n",
        "coffee.head()"
      ]
    },
    {
      "cell_type": "markdown",
      "metadata": {
        "id": "l1M8EILDtpy1"
      },
      "source": [
        "#### **(a) estimate regression with different types of control variables**"
      ]
    },
    {
      "cell_type": "markdown",
      "metadata": {
        "id": "sO0RI4jXtu-U"
      },
      "source": [
        "##### **i. nothing included in X**\n",
        "\n"
      ]
    },
    {
      "cell_type": "code",
      "execution_count": null,
      "metadata": {
        "colab": {
          "base_uri": "https://localhost:8080/"
        },
        "id": "0zesZStvt0KI",
        "outputId": "f8e367d1-af30-480a-acb5-55fa854825e3"
      },
      "outputs": [
        {
          "output_type": "stream",
          "name": "stdout",
          "text": [
            "                            OLS Estimation Summary                            \n",
            "==============================================================================\n",
            "Dep. Variable:          coffee_p_real   R-squared:                      0.3590\n",
            "Estimator:                        OLS   Adj. R-squared:                 0.3579\n",
            "No. Observations:                 576   F-statistic:                    312.29\n",
            "Date:                Fri, Feb 16 2024   P-value (F-stat)                0.0000\n",
            "Time:                        19:44:02   Distribution:                  chi2(1)\n",
            "Cov. Estimator:                robust                                         \n",
            "                                                                              \n",
            "                               Parameter Estimates                                \n",
            "==================================================================================\n",
            "                Parameter  Std. Err.     T-stat    P-value    Lower CI    Upper CI\n",
            "----------------------------------------------------------------------------------\n",
            "q_world_jandec    -75.552     4.2753    -17.672     0.0000     -83.932     -67.173\n",
            "constant           655.65     27.189     24.114     0.0000      602.36      708.94\n",
            "==================================================================================\n"
          ]
        },
        {
          "output_type": "stream",
          "name": "stderr",
          "text": [
            "<ipython-input-101-5e7bb4a85f32>:14: FutureWarning: The frame.append method is deprecated and will be removed from pandas in a future version. Use pandas.concat instead.\n",
            "  coefficients_df = coefficients_df.append({'Model': f'Model {1}',\n"
          ]
        }
      ],
      "source": [
        "from linearmodels import OLS\n",
        "\n",
        "# Define the dependent variable (endogenous variable) and the independent variable (exogenous variable)\n",
        "dependent_variable = 'coffee_p_real'\n",
        "independent_variable = 'q_world_jandec'\n",
        "control_variables = 'constant'\n",
        "\n",
        "# Create the OLS model\n",
        "model = OLS(coffee[dependent_variable], coffee[[independent_variable, control_variables]])\n",
        "\n",
        "# Fit the model\n",
        "result = model.fit()\n",
        "coefficients_df = pd.DataFrame(columns=['Model', 'Variable', 'Coefficient'])\n",
        "coefficients_df = coefficients_df.append({'Model': f'Model {1}',\n",
        "                                          'Variable': independent_variable,\n",
        "                                          'Coefficient': result.params[independent_variable]}, ignore_index=True)\n",
        "\n",
        "# Print regression results\n",
        "print(result)\n"
      ]
    },
    {
      "cell_type": "markdown",
      "metadata": {
        "id": "bXpGAbfZNZIQ"
      },
      "source": [
        "##### **ii. include GDP as control variable**"
      ]
    },
    {
      "cell_type": "code",
      "execution_count": null,
      "metadata": {
        "colab": {
          "base_uri": "https://localhost:8080/"
        },
        "id": "0jyQVie5NMJA",
        "outputId": "35438587-c72d-4220-bda7-a188603b217f"
      },
      "outputs": [
        {
          "output_type": "stream",
          "name": "stdout",
          "text": [
            "                            OLS Estimation Summary                            \n",
            "==============================================================================\n",
            "Dep. Variable:          coffee_p_real   R-squared:                      0.4996\n",
            "Estimator:                        OLS   Adj. R-squared:                 0.4978\n",
            "No. Observations:                 576   F-statistic:                    575.76\n",
            "Date:                Fri, Feb 16 2024   P-value (F-stat)                0.0000\n",
            "Time:                        19:44:02   Distribution:                  chi2(2)\n",
            "Cov. Estimator:                robust                                         \n",
            "                                                                              \n",
            "                                 Parameter Estimates                                  \n",
            "======================================================================================\n",
            "                    Parameter  Std. Err.     T-stat    P-value    Lower CI    Upper CI\n",
            "--------------------------------------------------------------------------------------\n",
            "q_world_jandec        -200.59     18.321    -10.949     0.0000     -236.49     -164.68\n",
            "log_richgdp_jandec     357.23     45.057     7.9284     0.0000      268.92      445.55\n",
            "constant               1271.1     94.533     13.446     0.0000      1085.8      1456.4\n",
            "======================================================================================\n"
          ]
        },
        {
          "output_type": "stream",
          "name": "stderr",
          "text": [
            "<ipython-input-102-6e952eed49f6>:16: FutureWarning: The frame.append method is deprecated and will be removed from pandas in a future version. Use pandas.concat instead.\n",
            "  coefficients_df = coefficients_df.append({'Model': f'Model {2}',\n",
            "<ipython-input-102-6e952eed49f6>:20: FutureWarning: The frame.append method is deprecated and will be removed from pandas in a future version. Use pandas.concat instead.\n",
            "  coefficients_df = coefficients_df.append({'Model': f'Model {2}',\n"
          ]
        }
      ],
      "source": [
        "# Define the dependent variable (endogenous variable) and the independent variable (exogenous variable)\n",
        "dependent_variable = 'coffee_p_real'\n",
        "independent_variable = 'q_world_jandec'\n",
        "independent_variable2 = 'log_richgdp_jandec'\n",
        "control_variables = 'constant'\n",
        "\n",
        "# Create the OLS model\n",
        "model = OLS(coffee[dependent_variable], coffee[[independent_variable, independent_variable2, control_variables]])\n",
        "\n",
        "\n",
        "# Fit the model\n",
        "result = model.fit()\n",
        "\n",
        "# Print regression results\n",
        "print(result)\n",
        "coefficients_df = coefficients_df.append({'Model': f'Model {2}',\n",
        "                                          'Variable': independent_variable,\n",
        "                                          'Coefficient': result.params[independent_variable]}, ignore_index=True)\n",
        "\n",
        "coefficients_df = coefficients_df.append({'Model': f'Model {2}',\n",
        "                                              'Variable': independent_variable2,\n",
        "                                              'Coefficient': result.params[independent_variable2]}, ignore_index=True)"
      ]
    },
    {
      "cell_type": "markdown",
      "metadata": {
        "id": "WLXLfWT4NhPY"
      },
      "source": [
        "##### **iii. include GDP and tea price as control variables**"
      ]
    },
    {
      "cell_type": "code",
      "execution_count": null,
      "metadata": {
        "colab": {
          "base_uri": "https://localhost:8080/"
        },
        "id": "_pSFvs-2Nldh",
        "outputId": "f917517d-0f5a-4094-f73e-d93fa98459d5"
      },
      "outputs": [
        {
          "output_type": "stream",
          "name": "stdout",
          "text": [
            "                            OLS Estimation Summary                            \n",
            "==============================================================================\n",
            "Dep. Variable:          coffee_p_real   R-squared:                      0.6686\n",
            "Estimator:                        OLS   Adj. R-squared:                 0.6669\n",
            "No. Observations:                 576   F-statistic:                    802.73\n",
            "Date:                Fri, Feb 16 2024   P-value (F-stat)                0.0000\n",
            "Time:                        19:44:02   Distribution:                  chi2(3)\n",
            "Cov. Estimator:                robust                                         \n",
            "                                                                              \n",
            "                                 Parameter Estimates                                  \n",
            "======================================================================================\n",
            "                    Parameter  Std. Err.     T-stat    P-value    Lower CI    Upper CI\n",
            "--------------------------------------------------------------------------------------\n",
            "q_world_jandec        -194.42     10.679    -18.205     0.0000     -215.35     -173.49\n",
            "log_richgdp_jandec     616.61     39.513     15.605     0.0000      539.17      694.05\n",
            "tea_p_real             0.5484     0.0499     10.990     0.0000      0.4506      0.6462\n",
            "constant               921.89     55.725     16.543     0.0000      812.67      1031.1\n",
            "======================================================================================\n"
          ]
        },
        {
          "output_type": "stream",
          "name": "stderr",
          "text": [
            "<ipython-input-103-96187167ea97>:12: FutureWarning: The frame.append method is deprecated and will be removed from pandas in a future version. Use pandas.concat instead.\n",
            "  coefficients_df = coefficients_df.append({'Model': f'Model {3}',\n",
            "<ipython-input-103-96187167ea97>:15: FutureWarning: The frame.append method is deprecated and will be removed from pandas in a future version. Use pandas.concat instead.\n",
            "  coefficients_df = coefficients_df.append({'Model': f'Model {3}',\n",
            "<ipython-input-103-96187167ea97>:18: FutureWarning: The frame.append method is deprecated and will be removed from pandas in a future version. Use pandas.concat instead.\n",
            "  coefficients_df = coefficients_df.append({'Model': f'Model {3}',\n"
          ]
        }
      ],
      "source": [
        "dependent_variable = 'coffee_p_real'\n",
        "independent_variable = 'q_world_jandec'\n",
        "independent_variable2 = 'log_richgdp_jandec'\n",
        "independent_variable3 = 'tea_p_real'\n",
        "control_variables = 'constant'\n",
        "\n",
        "# Create the OLS model\n",
        "model = OLS(coffee[dependent_variable], coffee[[independent_variable, independent_variable2, independent_variable3,control_variables]])\n",
        "\n",
        "# Fit the model\n",
        "result = model.fit()\n",
        "coefficients_df = coefficients_df.append({'Model': f'Model {3}',\n",
        "                                          'Variable': independent_variable,\n",
        "                                          'Coefficient': result.params[independent_variable]}, ignore_index=True)\n",
        "coefficients_df = coefficients_df.append({'Model': f'Model {3}',\n",
        "                                              'Variable': independent_variable2,\n",
        "                                              'Coefficient': result.params[independent_variable2]}, ignore_index=True)\n",
        "coefficients_df = coefficients_df.append({'Model': f'Model {3}',\n",
        "                                              'Variable': independent_variable3,\n",
        "                                              'Coefficient': result.params[independent_variable3]}, ignore_index=True)\n",
        "# Print regression results\n",
        "print(result)"
      ]
    },
    {
      "cell_type": "markdown",
      "metadata": {
        "id": "DLZNPw6zOB1q"
      },
      "source": [
        "##### **iv. discutez des coeff**"
      ]
    },
    {
      "cell_type": "markdown",
      "metadata": {
        "id": "ENJ2_UlAT_Xi"
      },
      "source": [
        "Dans (i), le signe de la quantité est cohérent dans la régression avec la théorie économique : une augmentation de la quantité réduit le prix du café de 75$. De plus, les résultats sont significatifs au niveau de signification 1%.\n",
        "\n",
        "Dans (ii), le signe de la quantité est cohérent dans la régression avec la théorie économique : une augmentation de la quantité réduit le prix du café de 201\\$. De plus, les résultats sont significatifs au niveau de signification 1%.\n",
        "Le signe du PIB est cohérent avec la théorie économique : une augmentation du PIB augmente le prix du café de 357$. De plus, les résultats sont significatifs au niveau de signification 1%.\n",
        "\n",
        "Dans (iii), le signe de la quantité est cohérent dans la régression avec la théorie économique: une augmentation de la quantité réduit le prix du café de 194\\$.De plus, les résultats sont significatifs au niveau de signification 1%.\n",
        "Le signe du PIB est cohérent dans la régression avec la théorie économique : une augmentation du PIB augmente le prix du café de 617\\$. De plus, les résultats sont significatifs au niveau de signification 1%.\n",
        "Le signe du thé est cohérent dans la régression avec la théorie économique : une augmentation du thé augmente le prix du café de 0.55$. Ce résultat s'explique par le fait que le thé peut être considéré comme un substitut du café. L'idée derrière est que l'augmentation du prix du thé entraîne une diminution de la quantité vendu de thé, une augmentation de la quantité vendu de café, et donc une augmentation du prix de café. De plus, les résultats sont significatifs au niveau de signification 1%.\n",
        "\n",
        "Tous les signes ont donc une interprétation économique cohérente."
      ]
    },
    {
      "cell_type": "code",
      "execution_count": null,
      "metadata": {
        "colab": {
          "base_uri": "https://localhost:8080/"
        },
        "id": "Sa0MC_HHYDL1",
        "outputId": "9d02d088-0c62-4d02-f1ce-fe5bc2e9cd30"
      },
      "outputs": [
        {
          "output_type": "stream",
          "name": "stdout",
          "text": [
            "     Model            Variable  Coefficient\n",
            "0  Model 1      q_world_jandec   -75.552452\n",
            "1  Model 2      q_world_jandec  -200.585192\n",
            "2  Model 2  log_richgdp_jandec   357.234510\n",
            "3  Model 3      q_world_jandec  -194.418237\n",
            "4  Model 3  log_richgdp_jandec   616.610824\n",
            "5  Model 3          tea_p_real     0.548376\n"
          ]
        }
      ],
      "source": [
        "print(coefficients_df)"
      ]
    },
    {
      "cell_type": "markdown",
      "metadata": {
        "id": "VvwLo1XaOXRh"
      },
      "source": [
        "#### **(b) Utiliser les chocs météorologiques (colonnes frost01, frost02, frost03) comme instruments pour la variable Qworld**"
      ]
    },
    {
      "cell_type": "markdown",
      "metadata": {
        "id": "fI1okG8TOjM2"
      },
      "source": [
        "##### **i. nothing for X**"
      ]
    },
    {
      "cell_type": "code",
      "source": [
        "for col in ['frost01', 'frost02', 'frost03']:\n",
        "    coffee[col] = pd.Categorical(coffee[col])"
      ],
      "metadata": {
        "id": "VdAYVp71a6sQ"
      },
      "execution_count": null,
      "outputs": []
    },
    {
      "cell_type": "code",
      "execution_count": null,
      "metadata": {
        "colab": {
          "base_uri": "https://localhost:8080/"
        },
        "id": "ZhOaSqzhOrPn",
        "outputId": "58051179-f268-4cd9-8eab-1dc697664edf"
      },
      "outputs": [
        {
          "output_type": "stream",
          "name": "stdout",
          "text": [
            "                          IV-2SLS Estimation Summary                          \n",
            "==============================================================================\n",
            "Dep. Variable:          coffee_p_real   R-squared:                     -2.3760\n",
            "Estimator:                    IV-2SLS   Adj. R-squared:                -2.3818\n",
            "No. Observations:                 576   F-statistic:                    99.805\n",
            "Date:                Fri, Feb 16 2024   P-value (F-stat)                0.0000\n",
            "Time:                        19:44:02   Distribution:                  chi2(1)\n",
            "Cov. Estimator:                robust                                         \n",
            "                                                                              \n",
            "                               Parameter Estimates                                \n",
            "==================================================================================\n",
            "                Parameter  Std. Err.     T-stat    P-value    Lower CI    Upper CI\n",
            "----------------------------------------------------------------------------------\n",
            "constant           1796.7     153.71     11.689     0.0000      1495.4      2097.9\n",
            "q_world_jandec    -284.07     28.435    -9.9903     0.0000     -339.81     -228.34\n",
            "==================================================================================\n",
            "\n",
            "Endogenous: q_world_jandec\n",
            "Instruments: frost01_1, frost01_2, frost01_3, frost01_4, frost01_5, frost01_6, frost01_7, frost01_8, frost01_9, frost01_10, frost01_11, frost01_12, frost01_13, frost01_14, frost01_15, frost01_16, frost01_17, frost01_18, frost01_19, frost01_20, frost01_21, frost01_22, frost01_23, frost01_24, frost02_1, frost02_2, frost02_3, frost02_4, frost02_5, frost02_6, frost02_7, frost02_8, frost02_9, frost02_10, frost02_11, frost02_12, frost02_13, frost02_14, frost02_15, frost02_16, frost02_17, frost02_18, frost02_19, frost02_20, frost02_21, frost02_22, frost02_23, frost02_24, frost03_1, frost03_2, frost03_3, frost03_4, frost03_5, frost03_6, frost03_7, frost03_8, frost03_9, frost03_10, frost03_11, frost03_12, frost03_13, frost03_14, frost03_15, frost03_16, frost03_17, frost03_18, frost03_19, frost03_20, frost03_21, frost03_22, frost03_23, frost03_24\n",
            "Robust Covariance (Heteroskedastic)\n",
            "Debiased: False\n"
          ]
        },
        {
          "output_type": "stream",
          "name": "stderr",
          "text": [
            "<ipython-input-106-da0fdd19ea5c>:21: FutureWarning: The frame.append method is deprecated and will be removed from pandas in a future version. Use pandas.concat instead.\n",
            "  coefficients_df2 = coefficients_df2.append({'Model': f'Model {1}',\n"
          ]
        }
      ],
      "source": [
        "from linearmodels import IV2SLS\n",
        "# Define the dependent variable, independent variable, and instrumental variables\n",
        "dependent_variable = 'coffee_p_real'\n",
        "independent_variable = 'q_world_jandec'\n",
        "control_variables = 'constant'\n",
        "\n",
        "# Créer les variables indicatrices\n",
        "coffee = pd.get_dummies(coffee, drop_first=True)\n",
        "\n",
        "instrumental_variables = [col for col in coffee.columns if col.startswith('frost01_') or col.startswith('frost02_') or col.startswith('frost03_')]\n",
        "\n",
        "# Create the IV2SLS model\n",
        "model = IV2SLS(dependent=coffee[dependent_variable],\n",
        "               exog=coffee[control_variables],\n",
        "               endog=coffee[independent_variable],  # The endogenous variable\n",
        "               instruments=coffee[instrumental_variables])\n",
        "\n",
        "# Fit the model\n",
        "result = model.fit()\n",
        "coefficients_df2 = pd.DataFrame(columns=['Model', 'Variable', 'Coefficient'])\n",
        "coefficients_df2 = coefficients_df2.append({'Model': f'Model {1}',\n",
        "                                          'Variable': independent_variable,\n",
        "                                          'Coefficient': result.params[independent_variable]}, ignore_index=True)\n",
        "# Print regression results\n",
        "print(result)"
      ]
    },
    {
      "cell_type": "markdown",
      "metadata": {
        "id": "b9-Z7JPGQRPm"
      },
      "source": [
        "##### **ii. include GDP as control variable**"
      ]
    },
    {
      "cell_type": "code",
      "execution_count": null,
      "metadata": {
        "colab": {
          "base_uri": "https://localhost:8080/"
        },
        "id": "efH6HZpUQQBG",
        "outputId": "b1b3356c-2210-4701-8801-76fe4983c8a4"
      },
      "outputs": [
        {
          "output_type": "stream",
          "name": "stdout",
          "text": [
            "                          IV-2SLS Estimation Summary                          \n",
            "==============================================================================\n",
            "Dep. Variable:          coffee_p_real   R-squared:                      0.3685\n",
            "Estimator:                    IV-2SLS   Adj. R-squared:                 0.3663\n",
            "No. Observations:                 576   F-statistic:                    346.65\n",
            "Date:                Fri, Feb 16 2024   P-value (F-stat)                0.0000\n",
            "Time:                        19:44:02   Distribution:                  chi2(2)\n",
            "Cov. Estimator:                robust                                         \n",
            "                                                                              \n",
            "                                 Parameter Estimates                                  \n",
            "======================================================================================\n",
            "                    Parameter  Std. Err.     T-stat    P-value    Lower CI    Upper CI\n",
            "--------------------------------------------------------------------------------------\n",
            "log_richgdp_jandec     679.93     72.329     9.4005     0.0000      538.17      821.70\n",
            "constant               1915.4     147.02     13.028     0.0000      1627.2      2203.5\n",
            "q_world_jandec        -329.67     29.117    -11.322     0.0000     -386.74     -272.60\n",
            "======================================================================================\n",
            "\n",
            "Endogenous: q_world_jandec\n",
            "Instruments: frost01_1, frost01_2, frost01_3, frost01_4, frost01_5, frost01_6, frost01_7, frost01_8, frost01_9, frost01_10, frost01_11, frost01_12, frost01_13, frost01_14, frost01_15, frost01_16, frost01_17, frost01_18, frost01_19, frost01_20, frost01_21, frost01_22, frost01_23, frost01_24, frost02_1, frost02_2, frost02_3, frost02_4, frost02_5, frost02_6, frost02_7, frost02_8, frost02_9, frost02_10, frost02_11, frost02_12, frost02_13, frost02_14, frost02_15, frost02_16, frost02_17, frost02_18, frost02_19, frost02_20, frost02_21, frost02_22, frost02_23, frost02_24, frost03_1, frost03_2, frost03_3, frost03_4, frost03_5, frost03_6, frost03_7, frost03_8, frost03_9, frost03_10, frost03_11, frost03_12, frost03_13, frost03_14, frost03_15, frost03_16, frost03_17, frost03_18, frost03_19, frost03_20, frost03_21, frost03_22, frost03_23, frost03_24\n",
            "Robust Covariance (Heteroskedastic)\n",
            "Debiased: False\n"
          ]
        },
        {
          "output_type": "stream",
          "name": "stderr",
          "text": [
            "<ipython-input-107-02328d659afb>:23: FutureWarning: The frame.append method is deprecated and will be removed from pandas in a future version. Use pandas.concat instead.\n",
            "  coefficients_df2 = coefficients_df2.append({'Model': f'Model {2}',\n",
            "<ipython-input-107-02328d659afb>:26: FutureWarning: The frame.append method is deprecated and will be removed from pandas in a future version. Use pandas.concat instead.\n",
            "  coefficients_df2 = coefficients_df2.append({'Model': f'Model {2}',\n"
          ]
        }
      ],
      "source": [
        "from linearmodels import IV2SLS\n",
        "import pandas as pd\n",
        "\n",
        "# Define the dependent variable, independent variable, control variable, and instrumental variables\n",
        "dependent_variable = 'coffee_p_real'\n",
        "independent_variable = 'q_world_jandec'\n",
        "independent_variable2 = 'log_richgdp_jandec'\n",
        "control_variables = 'constant'\n",
        "\n",
        "instrumental_variables = [col for col in coffee.columns if col.startswith('frost01_') or col.startswith('frost02_') or col.startswith('frost03_')]\n",
        "\n",
        "# Create the IV2SLS model\n",
        "model = IV2SLS(dependent=coffee[dependent_variable],\n",
        "               exog=coffee[[independent_variable2, control_variables]],  # Control variable\n",
        "               endog=coffee[independent_variable],  # The endogenous variable\n",
        "               instruments=coffee[instrumental_variables])\n",
        "\n",
        "# Fit the model\n",
        "result = model.fit()\n",
        "\n",
        "# Print regression results\n",
        "print(result)\n",
        "coefficients_df2 = coefficients_df2.append({'Model': f'Model {2}',\n",
        "                                          'Variable': independent_variable,\n",
        "                                          'Coefficient': result.params[independent_variable]}, ignore_index=True)\n",
        "coefficients_df2 = coefficients_df2.append({'Model': f'Model {2}',\n",
        "                                              'Variable': independent_variable2,\n",
        "                                              'Coefficient': result.params[independent_variable2]}, ignore_index=True)"
      ]
    },
    {
      "cell_type": "markdown",
      "metadata": {
        "id": "6mQLtF-5QrEc"
      },
      "source": [
        "##### **iii. include GDP and tea price as control variables**"
      ]
    },
    {
      "cell_type": "code",
      "execution_count": null,
      "metadata": {
        "colab": {
          "base_uri": "https://localhost:8080/"
        },
        "id": "muMQzn5rzPoS",
        "outputId": "6ad2f494-a3f5-4f79-9d4a-11797b3158fb"
      },
      "outputs": [
        {
          "output_type": "stream",
          "name": "stdout",
          "text": [
            "                          IV-2SLS Estimation Summary                          \n",
            "==============================================================================\n",
            "Dep. Variable:          coffee_p_real   R-squared:                      0.5927\n",
            "Estimator:                    IV-2SLS   Adj. R-squared:                 0.5906\n",
            "No. Observations:                 576   F-statistic:                    806.69\n",
            "Date:                Fri, Feb 16 2024   P-value (F-stat)                0.0000\n",
            "Time:                        19:44:02   Distribution:                  chi2(3)\n",
            "Cov. Estimator:                robust                                         \n",
            "                                                                              \n",
            "                                 Parameter Estimates                                  \n",
            "======================================================================================\n",
            "                    Parameter  Std. Err.     T-stat    P-value    Lower CI    Upper CI\n",
            "--------------------------------------------------------------------------------------\n",
            "constant               1421.6     81.880     17.362     0.0000      1261.1      1582.1\n",
            "log_richgdp_jandec     854.68     40.655     21.023     0.0000      775.00      934.37\n",
            "tea_p_real             0.5329     0.0386     13.793     0.0000      0.4572      0.6087\n",
            "q_world_jandec        -292.75     15.284    -19.154     0.0000     -322.70     -262.79\n",
            "======================================================================================\n",
            "\n",
            "Endogenous: q_world_jandec\n",
            "Instruments: frost01_1, frost01_2, frost01_3, frost01_4, frost01_5, frost01_6, frost01_7, frost01_8, frost01_9, frost01_10, frost01_11, frost01_12, frost01_13, frost01_14, frost01_15, frost01_16, frost01_17, frost01_18, frost01_19, frost01_20, frost01_21, frost01_22, frost01_23, frost01_24, frost02_1, frost02_2, frost02_3, frost02_4, frost02_5, frost02_6, frost02_7, frost02_8, frost02_9, frost02_10, frost02_11, frost02_12, frost02_13, frost02_14, frost02_15, frost02_16, frost02_17, frost02_18, frost02_19, frost02_20, frost02_21, frost02_22, frost02_23, frost02_24, frost03_1, frost03_2, frost03_3, frost03_4, frost03_5, frost03_6, frost03_7, frost03_8, frost03_9, frost03_10, frost03_11, frost03_12, frost03_13, frost03_14, frost03_15, frost03_16, frost03_17, frost03_18, frost03_19, frost03_20, frost03_21, frost03_22, frost03_23, frost03_24\n",
            "Robust Covariance (Heteroskedastic)\n",
            "Debiased: False\n"
          ]
        },
        {
          "output_type": "stream",
          "name": "stderr",
          "text": [
            "<ipython-input-108-69ba38089cd7>:20: FutureWarning: The frame.append method is deprecated and will be removed from pandas in a future version. Use pandas.concat instead.\n",
            "  coefficients_df2 = coefficients_df2.append({'Model': f'Model {3}',\n",
            "<ipython-input-108-69ba38089cd7>:23: FutureWarning: The frame.append method is deprecated and will be removed from pandas in a future version. Use pandas.concat instead.\n",
            "  coefficients_df2 = coefficients_df2.append({'Model': f'Model {3}',\n",
            "<ipython-input-108-69ba38089cd7>:26: FutureWarning: The frame.append method is deprecated and will be removed from pandas in a future version. Use pandas.concat instead.\n",
            "  coefficients_df2 = coefficients_df2.append({'Model': f'Model {3}',\n"
          ]
        }
      ],
      "source": [
        "from linearmodels import IV2SLS\n",
        "\n",
        "# Define the dependent variable, independent variable, control variable, and instrumental variables\n",
        "dependent_variable = 'coffee_p_real'\n",
        "independent_variable = 'q_world_jandec'\n",
        "independent_variable2 = 'log_richgdp_jandec'\n",
        "independent_variable3 = 'tea_p_real'\n",
        "control_variables = 'constant'\n",
        "\n",
        "instrumental_variables = [col for col in coffee.columns if col.startswith('frost01_') or col.startswith('frost02_') or col.startswith('frost03_')]\n",
        "\n",
        "# Create the IV2SLS model\n",
        "model = IV2SLS(dependent=coffee[dependent_variable],\n",
        "               exog=coffee[[control_variables, independent_variable2, independent_variable3]],  # Control variable\n",
        "               endog=coffee[independent_variable],  # The endogenous variable\n",
        "               instruments=coffee[instrumental_variables])\n",
        "\n",
        "# Fit the model\n",
        "result = model.fit()\n",
        "coefficients_df2 = coefficients_df2.append({'Model': f'Model {3}',\n",
        "                                          'Variable': independent_variable,\n",
        "                                          'Coefficient': result.params[independent_variable]}, ignore_index=True)\n",
        "coefficients_df2 = coefficients_df2.append({'Model': f'Model {3}',\n",
        "                                              'Variable': independent_variable2,\n",
        "                                              'Coefficient': result.params[independent_variable2]}, ignore_index=True)\n",
        "coefficients_df2 = coefficients_df2.append({'Model': f'Model {3}',\n",
        "                                              'Variable': independent_variable3,\n",
        "                                              'Coefficient': result.params[independent_variable3]}, ignore_index=True)\n",
        "# Print regression results\n",
        "print(result)"
      ]
    },
    {
      "cell_type": "code",
      "execution_count": null,
      "metadata": {
        "colab": {
          "base_uri": "https://localhost:8080/"
        },
        "id": "S9MD18Zw0rRy",
        "outputId": "6cf1491a-7fcf-4210-f034-61aa6459f1e9"
      },
      "outputs": [
        {
          "output_type": "stream",
          "name": "stdout",
          "text": [
            "     Model            Variable  Coefficient\n",
            "0  Model 1      q_world_jandec  -284.074060\n",
            "1  Model 2      q_world_jandec  -329.669169\n",
            "2  Model 2  log_richgdp_jandec   679.933054\n",
            "3  Model 3      q_world_jandec  -292.746162\n",
            "4  Model 3  log_richgdp_jandec   854.684561\n",
            "5  Model 3          tea_p_real     0.532935\n"
          ]
        }
      ],
      "source": [
        "print(coefficients_df2)"
      ]
    },
    {
      "cell_type": "markdown",
      "metadata": {
        "id": "tIdocvDTTMmx"
      },
      "source": [
        "Dans (i), le signe de la quantité est cohérent dans la régression avec la théorie économique : une augmentation de la quantité réduit le prix du café de 338$. De plus, les résultats sont significatifs au niveau de signification 1%.\n",
        "\n",
        "Dans (ii), le signe de la quantité est cohérent dans la régression avec la théorie économique : une augmentation de la quantité réduit le prix du café de 392\\$. De plus, les résultats sont significatifs au niveau de signification 1%. Le signe du PIB est cohérent avec la théorie économique : une augmentation du PIB augmente le prix du café de 835$. De plus, les résultats sont significatifs au niveau de signification 1%.\n",
        "\n",
        "Dans (iii), le signe de la quantité est cohérent dans la régression avec la théorie économique: une augmentation de la quantité réduit le prix du café de 328\\$. De plus, les résultats sont significatifs au niveau de signification 1%. Le signe du PIB est cohérent dans la régression avec la théorie économique : une augmentation du PIB augmente le prix du café de 940\\$. De plus, les résultats sont significatifs au niveau de signification 1%. Le signe du thé est cohérent dans la régression avec la théorie économique : une augmentation du thé augmente le prix du café de 0.53$. Ce résultat s'explique par le fait que le thé peut être considéré comme un substitut du café. L'idée derrière est que l'augmentation du prix du thé entraîne une diminution de la quantité vendu de thé, une augmentation de la quantité vendu de café, et donc une augmentation du prix de café. De plus, les résultats sont significatifs au niveau de signification 1%.\n",
        "\n",
        "Tous les signes ont donc une interprétation économique cohérente, tout comme les résultats naïfs."
      ]
    },
    {
      "cell_type": "code",
      "execution_count": null,
      "metadata": {
        "colab": {
          "base_uri": "https://localhost:8080/",
          "height": 565
        },
        "id": "ivmbc-Rprt7_",
        "outputId": "5e29a4e9-b528-47b0-fb64-edf27e963cd9"
      },
      "outputs": [
        {
          "output_type": "display_data",
          "data": {
            "text/plain": [
              "<Figure size 1000x600 with 1 Axes>"
            ],
            "image/png": "[encoded data removed]"
          },
          "metadata": {}
        }
      ],
      "source": [
        "import pandas as pd\n",
        "import matplotlib.pyplot as plt\n",
        "\n",
        "# Définition des valeurs pour N_concurrence et N_cartel\n",
        "N_concurrence = 55\n",
        "N_cartel = 1\n",
        "\n",
        "# Calcul de mc_concurrence et mc_cartel\n",
        "coffee['mc_concurrence'] = coffee['coffee_p_real'] + coffee['q_world_jandec']*1000/(-292.7*N_concurrence)\n",
        "coffee['mc_cartel'] = coffee['coffee_p_real'] + coffee['q_world_jandec']*1000/(-292.7*N_cartel)\n",
        "\n",
        "# Création de la variable date\n",
        "coffee['date'] = pd.to_datetime(coffee['calendar_year'].astype(str) + coffee['calendar_month'].astype(str), format='%Y%m')\n",
        "coffee.set_index('date', inplace=True)\n",
        "\n",
        "# Tracé de la série chronologique\n",
        "plt.figure(figsize=(10, 6))\n",
        "plt.plot(coffee.index, coffee['mc_cartel'], label='Cartel')\n",
        "plt.plot(coffee.index, coffee['mc_concurrence'], label='Concurrence')\n",
        "plt.title('Série Chronologique des couts marginaux')\n",
        "plt.xlabel('Date')\n",
        "plt.ylabel('Couts marginaux')\n",
        "plt.legend()\n",
        "plt.show()\n",
        "\n"
      ]
    },
    {
      "cell_type": "markdown",
      "source": [
        "Il est possible d'observer que les coûts marginaux sont plus faibles en la présence d'un cartel que dans le modèle de concurrence. Ces résultats pourraient être expliqués par la théorie économique. En effet, si l'on considère que les coûts marginaux sont croissants avec l'augmentation de la quantité, alors la production d'une quantité plus faible qu'à l'équilibre génère un coût marginal plus faible."
      ],
      "metadata": {
        "id": "kWiddXCWecrO"
      }
    }
  ],
  "metadata": {
    "colab": {
      "provenance": []
    },
    "kernelspec": {
      "display_name": "Python 3",
      "name": "python3"
    },
    "language_info": {
      "name": "python"
    }
  },
  "nbformat": 4,
  "nbformat_minor": 0
}
